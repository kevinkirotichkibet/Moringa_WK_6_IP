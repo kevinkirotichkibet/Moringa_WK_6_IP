{
  "nbformat": 4,
  "nbformat_minor": 0,
  "metadata": {
    "colab": {
      "name": "Moringa_Data_Science_Core_W6_Independent_Project_2021_07_Kevin_Kirotich.ipynb",
      "provenance": [],
      "collapsed_sections": []
    },
    "kernelspec": {
      "name": "python3",
      "display_name": "Python 3"
    },
    "language_info": {
      "name": "python"
    }
  },
  "cells": [
    {
      "cell_type": "markdown",
      "metadata": {
        "id": "ylDpPW54Nz55"
      },
      "source": [
        "# Mchezopesa Football Results Analysis"
      ]
    },
    {
      "cell_type": "markdown",
      "metadata": {
        "id": "C2iTjROGN9wn"
      },
      "source": [
        "Working as a football analysis for Mchezopesa limited, I have been tasked to perform the following tasks:\n",
        "\n",
        "\n",
        "\n",
        "*   A prediction result of a game between team 1 and team 2, based on who's home and who's away, and on whether or not the game is friendly (include rank in your training).\n",
        "\n",
        "You have two possible approaches (as  shown below) given the datasets that will be provided\n",
        "\n",
        "Input: Home team, Away team, Tournament type (World cup, Friendly, Other)\n",
        "\n",
        "---\n",
        "\n",
        "**Approach 1: Polynomial approach**\n",
        "\n",
        "What to train given:\n",
        "\n",
        "1.   Rank of home team\n",
        "2.   Rank of away team\n",
        "3.   Tournament type\n",
        "\n",
        "\n",
        "Model 1: Predict how many goals the home team scores.\n",
        "\n",
        "Model 2: Predict how many goals the away team scores.\n",
        "\n",
        "**Approach 2: Logistic approach**\n",
        "\n",
        "Feature Engineering: Figure out from the home team’s perspective if the game is a Win, Lose or Draw (W, L, D)\n"
      ]
    },
    {
      "cell_type": "markdown",
      "metadata": {
        "id": "AD1Kb7R-fCQa"
      },
      "source": [
        "# 1. Question Definition.\n",
        "\n",
        "## a. Specifying the Data Analytic Question"
      ]
    },
    {
      "cell_type": "markdown",
      "metadata": {
        "id": "BncJ4Zy6fwoC"
      },
      "source": [
        "Approach 1: Polynomial approach\n",
        "\n",
        "Model 1: Predict how many goals the home team scores.\n",
        "\n",
        "Model 2: Predict how many goals the away team scores.\n",
        "\n",
        "Approach 2: Logistic approach\n",
        "\n",
        "Figure out from the home team’s perspective if the game is a Win, Lose or Draw (W, L, D)"
      ]
    },
    {
      "cell_type": "markdown",
      "metadata": {
        "id": "azQ1Je8Mf1yA"
      },
      "source": [
        "## b. Metric for Success"
      ]
    },
    {
      "cell_type": "markdown",
      "metadata": {
        "id": "Ms_MYFE5hI0H"
      },
      "source": [
        "The metrics of success of this project are to be able to create a model that predicts how many goals the home and away teams score using polynomial approach, and create a model that figures if a game is a win, lose or draw from the home teams's perspective"
      ]
    },
    {
      "cell_type": "markdown",
      "metadata": {
        "id": "oNvf3QF_hSxZ"
      },
      "source": [
        "## c. Understanding the background of the research"
      ]
    },
    {
      "cell_type": "markdown",
      "metadata": {
        "id": "9hhaGO4DhrSq"
      },
      "source": [
        "The men's FIFA World Ranking is a ranking system for men's national teams in association football, Belgium currently leads by 1832.33 points.The teams of the men's member nations of FIFA, football's world governing body, are ranked based on their game results with the most successful teams being ranked highest. The rankings were introduced in December 1992, and eight teams (Argentina, Belgium, Brazil, France, Germany, Italy, the Netherlands and Spain) have held the top position, of which Brazil have spent the longest ranked first.\n",
        "\n",
        "A points system is used, with points being awarded based on the results of all FIFA-recognised full international matches.\n",
        "\n",
        "The ranking system has been revamped on several occasions, generally responding to criticism that the preceding calculation method did not effectively reflect the relative strengths of the national teams. Since 16 August 2018, the current version of the ranking system has adopted the Elo rating system used in chess and Go. The rankings are also used to determine the winners of the two annual awards national teams receive on the basis of their performance in the rankings.\n",
        "\n",
        "The (English) Football Association uses the average of the last 24 months of rankings as one of the criteria for player work permits."
      ]
    },
    {
      "cell_type": "markdown",
      "metadata": {
        "id": "oCMv-zbSjoYA"
      },
      "source": [
        "## d. Procedure to the Experimental design"
      ]
    },
    {
      "cell_type": "markdown",
      "metadata": {
        "id": "d9SnwsNRj2Fg"
      },
      "source": [
        "The following are the steps taken in this analysis\n",
        "1. Question Definition\n",
        "2. Reading the Data.\n",
        "3. Checking the Data.\n",
        "4. Data Cleaning and Merging\n",
        "5. Performing EDA on data\n",
        "6. Check for Multicollinearity\n",
        "7. Polynomial Regression\n",
        "8. Logistic Regression"
      ]
    },
    {
      "cell_type": "markdown",
      "metadata": {
        "id": "uwW11eHvkYu5"
      },
      "source": [
        "## e. Data Relevance"
      ]
    },
    {
      "cell_type": "markdown",
      "metadata": {
        "id": "Ca7P62y3kdNo"
      },
      "source": [
        "Our data was collected from different countries around the world. The reserch uses two datasets.\n",
        "\n",
        "One contains data on features such as which country was the home team and which was the away team, the scores for each side, tournament type, city and country. The second dataset contains data on the countries' FIFA rankings. We have features such as the country, rank, total points, previous points, rank change ... among other features.\n"
      ]
    },
    {
      "cell_type": "markdown",
      "metadata": {
        "id": "Cq2wXSLypHYu"
      },
      "source": [
        "# 2. Reading the Data"
      ]
    },
    {
      "cell_type": "code",
      "metadata": {
        "id": "wauKp9-ikcim"
      },
      "source": [
        "#Importing relevant libraries\n",
        "import pandas as pd\n",
        "import numpy as np\n",
        "import seaborn as sns\n",
        "import scipy as sp\n",
        "import matplotlib.pyplot as plt\n",
        "%matplotlib inline\n",
        "from sklearn.model_selection import train_test_split\n",
        "from sklearn.linear_model import LinearRegression\n",
        "from sklearn.linear_model import LogisticRegression\n",
        "from sklearn.preprocessing import StandardScaler\n",
        "from sklearn.preprocessing import LabelEncoder\n",
        "from sklearn.preprocessing import PolynomialFeatures\n",
        "from sklearn.model_selection import train_test_split\n",
        "from sklearn.model_selection import KFold\n",
        "from sklearn import metrics\n",
        "\n",
        "# reading our csv files\n",
        "ranking = pd.read_csv('/content/fifa_ranking.csv')\n",
        "results = pd.read_csv('/content/results.csv')"
      ],
      "execution_count": 400,
      "outputs": []
    },
    {
      "cell_type": "markdown",
      "metadata": {
        "id": "1sIA7zmBw-Oe"
      },
      "source": [
        "# 3. Data checking\n"
      ]
    },
    {
      "cell_type": "code",
      "metadata": {
        "colab": {
          "base_uri": "https://localhost:8080/",
          "height": 211
        },
        "id": "SwDIgMXxyCWx",
        "outputId": "12131523-d357-473c-ca14-889d75b17751"
      },
      "source": [
        "ranking.head(3)"
      ],
      "execution_count": 401,
      "outputs": [
        {
          "output_type": "execute_result",
          "data": {
            "text/html": [
              "<div>\n",
              "<style scoped>\n",
              "    .dataframe tbody tr th:only-of-type {\n",
              "        vertical-align: middle;\n",
              "    }\n",
              "\n",
              "    .dataframe tbody tr th {\n",
              "        vertical-align: top;\n",
              "    }\n",
              "\n",
              "    .dataframe thead th {\n",
              "        text-align: right;\n",
              "    }\n",
              "</style>\n",
              "<table border=\"1\" class=\"dataframe\">\n",
              "  <thead>\n",
              "    <tr style=\"text-align: right;\">\n",
              "      <th></th>\n",
              "      <th>rank</th>\n",
              "      <th>country_full</th>\n",
              "      <th>country_abrv</th>\n",
              "      <th>total_points</th>\n",
              "      <th>previous_points</th>\n",
              "      <th>rank_change</th>\n",
              "      <th>cur_year_avg</th>\n",
              "      <th>cur_year_avg_weighted</th>\n",
              "      <th>last_year_avg</th>\n",
              "      <th>last_year_avg_weighted</th>\n",
              "      <th>two_year_ago_avg</th>\n",
              "      <th>two_year_ago_weighted</th>\n",
              "      <th>three_year_ago_avg</th>\n",
              "      <th>three_year_ago_weighted</th>\n",
              "      <th>confederation</th>\n",
              "      <th>rank_date</th>\n",
              "    </tr>\n",
              "  </thead>\n",
              "  <tbody>\n",
              "    <tr>\n",
              "      <th>0</th>\n",
              "      <td>1</td>\n",
              "      <td>Germany</td>\n",
              "      <td>GER</td>\n",
              "      <td>0.0</td>\n",
              "      <td>57</td>\n",
              "      <td>0</td>\n",
              "      <td>0.0</td>\n",
              "      <td>0.0</td>\n",
              "      <td>0.0</td>\n",
              "      <td>0.0</td>\n",
              "      <td>0.0</td>\n",
              "      <td>0.0</td>\n",
              "      <td>0.0</td>\n",
              "      <td>0.0</td>\n",
              "      <td>UEFA</td>\n",
              "      <td>1993-08-08</td>\n",
              "    </tr>\n",
              "    <tr>\n",
              "      <th>1</th>\n",
              "      <td>2</td>\n",
              "      <td>Italy</td>\n",
              "      <td>ITA</td>\n",
              "      <td>0.0</td>\n",
              "      <td>57</td>\n",
              "      <td>0</td>\n",
              "      <td>0.0</td>\n",
              "      <td>0.0</td>\n",
              "      <td>0.0</td>\n",
              "      <td>0.0</td>\n",
              "      <td>0.0</td>\n",
              "      <td>0.0</td>\n",
              "      <td>0.0</td>\n",
              "      <td>0.0</td>\n",
              "      <td>UEFA</td>\n",
              "      <td>1993-08-08</td>\n",
              "    </tr>\n",
              "    <tr>\n",
              "      <th>2</th>\n",
              "      <td>3</td>\n",
              "      <td>Switzerland</td>\n",
              "      <td>SUI</td>\n",
              "      <td>0.0</td>\n",
              "      <td>50</td>\n",
              "      <td>9</td>\n",
              "      <td>0.0</td>\n",
              "      <td>0.0</td>\n",
              "      <td>0.0</td>\n",
              "      <td>0.0</td>\n",
              "      <td>0.0</td>\n",
              "      <td>0.0</td>\n",
              "      <td>0.0</td>\n",
              "      <td>0.0</td>\n",
              "      <td>UEFA</td>\n",
              "      <td>1993-08-08</td>\n",
              "    </tr>\n",
              "  </tbody>\n",
              "</table>\n",
              "</div>"
            ],
            "text/plain": [
              "   rank country_full  ... confederation   rank_date\n",
              "0     1      Germany  ...          UEFA  1993-08-08\n",
              "1     2        Italy  ...          UEFA  1993-08-08\n",
              "2     3  Switzerland  ...          UEFA  1993-08-08\n",
              "\n",
              "[3 rows x 16 columns]"
            ]
          },
          "metadata": {},
          "execution_count": 401
        }
      ]
    },
    {
      "cell_type": "code",
      "metadata": {
        "colab": {
          "base_uri": "https://localhost:8080/",
          "height": 141
        },
        "id": "pVWx4duN3yaZ",
        "outputId": "4a4ddb1d-216a-44b2-ff8c-5efeaee011fc"
      },
      "source": [
        "results.head(3)"
      ],
      "execution_count": 402,
      "outputs": [
        {
          "output_type": "execute_result",
          "data": {
            "text/html": [
              "<div>\n",
              "<style scoped>\n",
              "    .dataframe tbody tr th:only-of-type {\n",
              "        vertical-align: middle;\n",
              "    }\n",
              "\n",
              "    .dataframe tbody tr th {\n",
              "        vertical-align: top;\n",
              "    }\n",
              "\n",
              "    .dataframe thead th {\n",
              "        text-align: right;\n",
              "    }\n",
              "</style>\n",
              "<table border=\"1\" class=\"dataframe\">\n",
              "  <thead>\n",
              "    <tr style=\"text-align: right;\">\n",
              "      <th></th>\n",
              "      <th>date</th>\n",
              "      <th>home_team</th>\n",
              "      <th>away_team</th>\n",
              "      <th>home_score</th>\n",
              "      <th>away_score</th>\n",
              "      <th>tournament</th>\n",
              "      <th>city</th>\n",
              "      <th>country</th>\n",
              "      <th>neutral</th>\n",
              "    </tr>\n",
              "  </thead>\n",
              "  <tbody>\n",
              "    <tr>\n",
              "      <th>0</th>\n",
              "      <td>1872-11-30</td>\n",
              "      <td>Scotland</td>\n",
              "      <td>England</td>\n",
              "      <td>0</td>\n",
              "      <td>0</td>\n",
              "      <td>Friendly</td>\n",
              "      <td>Glasgow</td>\n",
              "      <td>Scotland</td>\n",
              "      <td>False</td>\n",
              "    </tr>\n",
              "    <tr>\n",
              "      <th>1</th>\n",
              "      <td>1873-03-08</td>\n",
              "      <td>England</td>\n",
              "      <td>Scotland</td>\n",
              "      <td>4</td>\n",
              "      <td>2</td>\n",
              "      <td>Friendly</td>\n",
              "      <td>London</td>\n",
              "      <td>England</td>\n",
              "      <td>False</td>\n",
              "    </tr>\n",
              "    <tr>\n",
              "      <th>2</th>\n",
              "      <td>1874-03-07</td>\n",
              "      <td>Scotland</td>\n",
              "      <td>England</td>\n",
              "      <td>2</td>\n",
              "      <td>1</td>\n",
              "      <td>Friendly</td>\n",
              "      <td>Glasgow</td>\n",
              "      <td>Scotland</td>\n",
              "      <td>False</td>\n",
              "    </tr>\n",
              "  </tbody>\n",
              "</table>\n",
              "</div>"
            ],
            "text/plain": [
              "         date home_team away_team  ...     city   country neutral\n",
              "0  1872-11-30  Scotland   England  ...  Glasgow  Scotland   False\n",
              "1  1873-03-08   England  Scotland  ...   London   England   False\n",
              "2  1874-03-07  Scotland   England  ...  Glasgow  Scotland   False\n",
              "\n",
              "[3 rows x 9 columns]"
            ]
          },
          "metadata": {},
          "execution_count": 402
        }
      ]
    },
    {
      "cell_type": "code",
      "metadata": {
        "colab": {
          "base_uri": "https://localhost:8080/"
        },
        "id": "Ut2zLDjGNywX",
        "outputId": "286fe31d-e8b4-4d83-95a1-acbf9ed539a2"
      },
      "source": [
        "# Checking the number of records in our dataframes\n",
        "print(\"Ranking dataframe:\\n\",ranking.shape)\n",
        "print(\"Results dataframe:\\n\",results.shape)"
      ],
      "execution_count": 403,
      "outputs": [
        {
          "output_type": "stream",
          "name": "stdout",
          "text": [
            "Ranking dataframe:\n",
            " (57793, 16)\n",
            "Results dataframe:\n",
            " (40839, 9)\n"
          ]
        }
      ]
    },
    {
      "cell_type": "markdown",
      "metadata": {
        "id": "5ceoabKLyKXz"
      },
      "source": [
        "The ranking dataframe had 16 columns and 57793 rows while the results dataframe has 9 columns and 40839 rows"
      ]
    },
    {
      "cell_type": "code",
      "metadata": {
        "colab": {
          "base_uri": "https://localhost:8080/"
        },
        "id": "g8HF9CNPyIUp",
        "outputId": "b38a771f-c6a4-48eb-9090-3e1ddc95f25f"
      },
      "source": [
        "#preview of the datasets\n",
        "print(\"Rankings dataframe:\\n \",ranking)\n",
        "print(\"***********************************************************************\")\n",
        "print(\"Results dataframe:\\n \",results)"
      ],
      "execution_count": 404,
      "outputs": [
        {
          "output_type": "stream",
          "name": "stdout",
          "text": [
            "Rankings dataframe:\n",
            "         rank country_full  ... confederation   rank_date\n",
            "0         1      Germany  ...          UEFA  1993-08-08\n",
            "1         2        Italy  ...          UEFA  1993-08-08\n",
            "2         3  Switzerland  ...          UEFA  1993-08-08\n",
            "3         4       Sweden  ...          UEFA  1993-08-08\n",
            "4         5    Argentina  ...      CONMEBOL  1993-08-08\n",
            "...     ...          ...  ...           ...         ...\n",
            "57788   206     Anguilla  ...      CONCACAF  2018-06-07\n",
            "57789   206      Bahamas  ...      CONCACAF  2018-06-07\n",
            "57790   206      Eritrea  ...           CAF  2018-06-07\n",
            "57791   206      Somalia  ...           CAF  2018-06-07\n",
            "57792   206        Tonga  ...           OFC  2018-06-07\n",
            "\n",
            "[57793 rows x 16 columns]\n",
            "***********************************************************************\n",
            "Results dataframe:\n",
            "               date         home_team  ...   country  neutral\n",
            "0      1872-11-30          Scotland  ...  Scotland    False\n",
            "1      1873-03-08           England  ...   England    False\n",
            "2      1874-03-07          Scotland  ...  Scotland    False\n",
            "3      1875-03-06           England  ...   England    False\n",
            "4      1876-03-04          Scotland  ...  Scotland    False\n",
            "...           ...               ...  ...       ...      ...\n",
            "40834  2019-07-18    American Samoa  ...     Samoa     True\n",
            "40835  2019-07-18              Fiji  ...     Samoa     True\n",
            "40836  2019-07-19           Senegal  ...     Egypt     True\n",
            "40837  2019-07-19        Tajikistan  ...     India     True\n",
            "40838  2019-07-20  Papua New Guinea  ...     Samoa     True\n",
            "\n",
            "[40839 rows x 9 columns]\n"
          ]
        }
      ]
    },
    {
      "cell_type": "markdown",
      "metadata": {
        "id": "D87PIxnu0ysu"
      },
      "source": [
        "### Data Appropriateness\n",
        "\n",
        "We will check if the data has its appropriate dataypes"
      ]
    },
    {
      "cell_type": "code",
      "metadata": {
        "colab": {
          "base_uri": "https://localhost:8080/"
        },
        "id": "C0iAVBL50tKL",
        "outputId": "b9193628-6c17-4dee-cbbb-66bba419b9f9"
      },
      "source": [
        "#Check for datatype of our columns\n",
        "#preview of the datasets\n",
        "print(\"Rankings dataframe:\\n \",ranking.dtypes)\n",
        "print(\"***********************************************************************\")\n",
        "print(\"Results dataframe:\\n \",results.dtypes)"
      ],
      "execution_count": 405,
      "outputs": [
        {
          "output_type": "stream",
          "name": "stdout",
          "text": [
            "Rankings dataframe:\n",
            "  rank                         int64\n",
            "country_full                object\n",
            "country_abrv                object\n",
            "total_points               float64\n",
            "previous_points              int64\n",
            "rank_change                  int64\n",
            "cur_year_avg               float64\n",
            "cur_year_avg_weighted      float64\n",
            "last_year_avg              float64\n",
            "last_year_avg_weighted     float64\n",
            "two_year_ago_avg           float64\n",
            "two_year_ago_weighted      float64\n",
            "three_year_ago_avg         float64\n",
            "three_year_ago_weighted    float64\n",
            "confederation               object\n",
            "rank_date                   object\n",
            "dtype: object\n",
            "***********************************************************************\n",
            "Results dataframe:\n",
            "  date          object\n",
            "home_team     object\n",
            "away_team     object\n",
            "home_score     int64\n",
            "away_score     int64\n",
            "tournament    object\n",
            "city          object\n",
            "country       object\n",
            "neutral         bool\n",
            "dtype: object\n"
          ]
        }
      ]
    },
    {
      "cell_type": "markdown",
      "metadata": {
        "id": "JjdE_X7O1UCj"
      },
      "source": [
        "Our datatypes look okay except for the date. This is remedied by using the inbuilt function called datetime which will convert it from an object to a datetime datatype"
      ]
    },
    {
      "cell_type": "markdown",
      "metadata": {
        "id": "j21s4Cw21wQz"
      },
      "source": [
        "Converting date to datetime datatype"
      ]
    },
    {
      "cell_type": "code",
      "metadata": {
        "colab": {
          "base_uri": "https://localhost:8080/"
        },
        "id": "H4DNOwrp14O9",
        "outputId": "652de5d9-59df-4229-8c1c-f08ee9b29425"
      },
      "source": [
        "#importing datetime library\n",
        "import datetime\n",
        "\n",
        "ranking.rank_date = pd.to_datetime(ranking.rank_date)\n",
        "results.date = pd.to_datetime(results.date)\n",
        "\n",
        "print(\"Rankings dataframe:\\n \",ranking.dtypes)\n",
        "print(\"***********************************************************************\")\n",
        "print(\"Results dataframe:\\n \",results.dtypes)"
      ],
      "execution_count": 406,
      "outputs": [
        {
          "output_type": "stream",
          "name": "stdout",
          "text": [
            "Rankings dataframe:\n",
            "  rank                                int64\n",
            "country_full                       object\n",
            "country_abrv                       object\n",
            "total_points                      float64\n",
            "previous_points                     int64\n",
            "rank_change                         int64\n",
            "cur_year_avg                      float64\n",
            "cur_year_avg_weighted             float64\n",
            "last_year_avg                     float64\n",
            "last_year_avg_weighted            float64\n",
            "two_year_ago_avg                  float64\n",
            "two_year_ago_weighted             float64\n",
            "three_year_ago_avg                float64\n",
            "three_year_ago_weighted           float64\n",
            "confederation                      object\n",
            "rank_date                  datetime64[ns]\n",
            "dtype: object\n",
            "***********************************************************************\n",
            "Results dataframe:\n",
            "  date          datetime64[ns]\n",
            "home_team             object\n",
            "away_team             object\n",
            "home_score             int64\n",
            "away_score             int64\n",
            "tournament            object\n",
            "city                  object\n",
            "country               object\n",
            "neutral                 bool\n",
            "dtype: object\n"
          ]
        }
      ]
    },
    {
      "cell_type": "code",
      "metadata": {
        "id": "mjkOXcXE2z5k"
      },
      "source": [
        "# Separate the dates to day, month and year for easier and better analysis\n",
        "#ranking dataframe\n",
        "ranking['day'] = ranking['rank_date'].dt.day\n",
        "ranking['month'] = ranking['rank_date'].dt.month\n",
        "ranking['year'] = ranking['rank_date'].dt.year\n",
        "\n",
        "#results dataframe\n",
        "results['day'] = results['date'].dt.day\n",
        "results['month'] = results['date'].dt.month\n",
        "results['year'] = results['date'].dt.year"
      ],
      "execution_count": 407,
      "outputs": []
    },
    {
      "cell_type": "code",
      "metadata": {
        "colab": {
          "base_uri": "https://localhost:8080/"
        },
        "id": "aS-IajbY4EPw",
        "outputId": "d86dc906-b7cc-4b1b-8035-99ebb5476a1e"
      },
      "source": [
        "print(\"Ranking dataframe:\\n\",ranking.shape)\n",
        "print(\"Results dataframe:\\n\",results.shape)"
      ],
      "execution_count": 408,
      "outputs": [
        {
          "output_type": "stream",
          "name": "stdout",
          "text": [
            "Ranking dataframe:\n",
            " (57793, 19)\n",
            "Results dataframe:\n",
            " (40839, 12)\n"
          ]
        }
      ]
    },
    {
      "cell_type": "markdown",
      "metadata": {
        "id": "cgjcI2n63XG2"
      },
      "source": [
        "## Data Cleaning and Merging\n",
        "\n",
        "We will merge our two datasets into one and perform data cleaning "
      ]
    },
    {
      "cell_type": "code",
      "metadata": {
        "id": "QMDWPX9C2zv6"
      },
      "source": [
        "#Changing the column name of \"country\" in results dataframe to \"country_full\" to match the one in ranking dataframe\n",
        "results = results.rename(columns = {'home_team' : 'country_full'})"
      ],
      "execution_count": 409,
      "outputs": []
    },
    {
      "cell_type": "markdown",
      "metadata": {
        "id": "C3v5mYkm6VKK"
      },
      "source": [
        "Merging our dataframes"
      ]
    },
    {
      "cell_type": "code",
      "metadata": {
        "colab": {
          "base_uri": "https://localhost:8080/",
          "height": 601
        },
        "id": "YUV7_ICm51m8",
        "outputId": "4f541ae8-62d8-4dc4-9033-cf01d7c2e75d"
      },
      "source": [
        "home_team = results.merge(ranking, how = 'left', right_on = ['country_full','month','year','day'], left_on=['country_full','month','year','day'])\n",
        "home_team"
      ],
      "execution_count": 410,
      "outputs": [
        {
          "output_type": "execute_result",
          "data": {
            "text/html": [
              "<div>\n",
              "<style scoped>\n",
              "    .dataframe tbody tr th:only-of-type {\n",
              "        vertical-align: middle;\n",
              "    }\n",
              "\n",
              "    .dataframe tbody tr th {\n",
              "        vertical-align: top;\n",
              "    }\n",
              "\n",
              "    .dataframe thead th {\n",
              "        text-align: right;\n",
              "    }\n",
              "</style>\n",
              "<table border=\"1\" class=\"dataframe\">\n",
              "  <thead>\n",
              "    <tr style=\"text-align: right;\">\n",
              "      <th></th>\n",
              "      <th>date</th>\n",
              "      <th>country_full</th>\n",
              "      <th>away_team</th>\n",
              "      <th>home_score</th>\n",
              "      <th>away_score</th>\n",
              "      <th>tournament</th>\n",
              "      <th>city</th>\n",
              "      <th>country</th>\n",
              "      <th>neutral</th>\n",
              "      <th>day</th>\n",
              "      <th>month</th>\n",
              "      <th>year</th>\n",
              "      <th>rank</th>\n",
              "      <th>country_abrv</th>\n",
              "      <th>total_points</th>\n",
              "      <th>previous_points</th>\n",
              "      <th>rank_change</th>\n",
              "      <th>cur_year_avg</th>\n",
              "      <th>cur_year_avg_weighted</th>\n",
              "      <th>last_year_avg</th>\n",
              "      <th>last_year_avg_weighted</th>\n",
              "      <th>two_year_ago_avg</th>\n",
              "      <th>two_year_ago_weighted</th>\n",
              "      <th>three_year_ago_avg</th>\n",
              "      <th>three_year_ago_weighted</th>\n",
              "      <th>confederation</th>\n",
              "      <th>rank_date</th>\n",
              "    </tr>\n",
              "  </thead>\n",
              "  <tbody>\n",
              "    <tr>\n",
              "      <th>0</th>\n",
              "      <td>1872-11-30</td>\n",
              "      <td>Scotland</td>\n",
              "      <td>England</td>\n",
              "      <td>0</td>\n",
              "      <td>0</td>\n",
              "      <td>Friendly</td>\n",
              "      <td>Glasgow</td>\n",
              "      <td>Scotland</td>\n",
              "      <td>False</td>\n",
              "      <td>30</td>\n",
              "      <td>11</td>\n",
              "      <td>1872</td>\n",
              "      <td>NaN</td>\n",
              "      <td>NaN</td>\n",
              "      <td>NaN</td>\n",
              "      <td>NaN</td>\n",
              "      <td>NaN</td>\n",
              "      <td>NaN</td>\n",
              "      <td>NaN</td>\n",
              "      <td>NaN</td>\n",
              "      <td>NaN</td>\n",
              "      <td>NaN</td>\n",
              "      <td>NaN</td>\n",
              "      <td>NaN</td>\n",
              "      <td>NaN</td>\n",
              "      <td>NaN</td>\n",
              "      <td>NaT</td>\n",
              "    </tr>\n",
              "    <tr>\n",
              "      <th>1</th>\n",
              "      <td>1873-03-08</td>\n",
              "      <td>England</td>\n",
              "      <td>Scotland</td>\n",
              "      <td>4</td>\n",
              "      <td>2</td>\n",
              "      <td>Friendly</td>\n",
              "      <td>London</td>\n",
              "      <td>England</td>\n",
              "      <td>False</td>\n",
              "      <td>8</td>\n",
              "      <td>3</td>\n",
              "      <td>1873</td>\n",
              "      <td>NaN</td>\n",
              "      <td>NaN</td>\n",
              "      <td>NaN</td>\n",
              "      <td>NaN</td>\n",
              "      <td>NaN</td>\n",
              "      <td>NaN</td>\n",
              "      <td>NaN</td>\n",
              "      <td>NaN</td>\n",
              "      <td>NaN</td>\n",
              "      <td>NaN</td>\n",
              "      <td>NaN</td>\n",
              "      <td>NaN</td>\n",
              "      <td>NaN</td>\n",
              "      <td>NaN</td>\n",
              "      <td>NaT</td>\n",
              "    </tr>\n",
              "    <tr>\n",
              "      <th>2</th>\n",
              "      <td>1874-03-07</td>\n",
              "      <td>Scotland</td>\n",
              "      <td>England</td>\n",
              "      <td>2</td>\n",
              "      <td>1</td>\n",
              "      <td>Friendly</td>\n",
              "      <td>Glasgow</td>\n",
              "      <td>Scotland</td>\n",
              "      <td>False</td>\n",
              "      <td>7</td>\n",
              "      <td>3</td>\n",
              "      <td>1874</td>\n",
              "      <td>NaN</td>\n",
              "      <td>NaN</td>\n",
              "      <td>NaN</td>\n",
              "      <td>NaN</td>\n",
              "      <td>NaN</td>\n",
              "      <td>NaN</td>\n",
              "      <td>NaN</td>\n",
              "      <td>NaN</td>\n",
              "      <td>NaN</td>\n",
              "      <td>NaN</td>\n",
              "      <td>NaN</td>\n",
              "      <td>NaN</td>\n",
              "      <td>NaN</td>\n",
              "      <td>NaN</td>\n",
              "      <td>NaT</td>\n",
              "    </tr>\n",
              "    <tr>\n",
              "      <th>3</th>\n",
              "      <td>1875-03-06</td>\n",
              "      <td>England</td>\n",
              "      <td>Scotland</td>\n",
              "      <td>2</td>\n",
              "      <td>2</td>\n",
              "      <td>Friendly</td>\n",
              "      <td>London</td>\n",
              "      <td>England</td>\n",
              "      <td>False</td>\n",
              "      <td>6</td>\n",
              "      <td>3</td>\n",
              "      <td>1875</td>\n",
              "      <td>NaN</td>\n",
              "      <td>NaN</td>\n",
              "      <td>NaN</td>\n",
              "      <td>NaN</td>\n",
              "      <td>NaN</td>\n",
              "      <td>NaN</td>\n",
              "      <td>NaN</td>\n",
              "      <td>NaN</td>\n",
              "      <td>NaN</td>\n",
              "      <td>NaN</td>\n",
              "      <td>NaN</td>\n",
              "      <td>NaN</td>\n",
              "      <td>NaN</td>\n",
              "      <td>NaN</td>\n",
              "      <td>NaT</td>\n",
              "    </tr>\n",
              "    <tr>\n",
              "      <th>4</th>\n",
              "      <td>1876-03-04</td>\n",
              "      <td>Scotland</td>\n",
              "      <td>England</td>\n",
              "      <td>3</td>\n",
              "      <td>0</td>\n",
              "      <td>Friendly</td>\n",
              "      <td>Glasgow</td>\n",
              "      <td>Scotland</td>\n",
              "      <td>False</td>\n",
              "      <td>4</td>\n",
              "      <td>3</td>\n",
              "      <td>1876</td>\n",
              "      <td>NaN</td>\n",
              "      <td>NaN</td>\n",
              "      <td>NaN</td>\n",
              "      <td>NaN</td>\n",
              "      <td>NaN</td>\n",
              "      <td>NaN</td>\n",
              "      <td>NaN</td>\n",
              "      <td>NaN</td>\n",
              "      <td>NaN</td>\n",
              "      <td>NaN</td>\n",
              "      <td>NaN</td>\n",
              "      <td>NaN</td>\n",
              "      <td>NaN</td>\n",
              "      <td>NaN</td>\n",
              "      <td>NaT</td>\n",
              "    </tr>\n",
              "    <tr>\n",
              "      <th>...</th>\n",
              "      <td>...</td>\n",
              "      <td>...</td>\n",
              "      <td>...</td>\n",
              "      <td>...</td>\n",
              "      <td>...</td>\n",
              "      <td>...</td>\n",
              "      <td>...</td>\n",
              "      <td>...</td>\n",
              "      <td>...</td>\n",
              "      <td>...</td>\n",
              "      <td>...</td>\n",
              "      <td>...</td>\n",
              "      <td>...</td>\n",
              "      <td>...</td>\n",
              "      <td>...</td>\n",
              "      <td>...</td>\n",
              "      <td>...</td>\n",
              "      <td>...</td>\n",
              "      <td>...</td>\n",
              "      <td>...</td>\n",
              "      <td>...</td>\n",
              "      <td>...</td>\n",
              "      <td>...</td>\n",
              "      <td>...</td>\n",
              "      <td>...</td>\n",
              "      <td>...</td>\n",
              "      <td>...</td>\n",
              "    </tr>\n",
              "    <tr>\n",
              "      <th>40834</th>\n",
              "      <td>2019-07-18</td>\n",
              "      <td>American Samoa</td>\n",
              "      <td>Tahiti</td>\n",
              "      <td>8</td>\n",
              "      <td>1</td>\n",
              "      <td>Pacific Games</td>\n",
              "      <td>Apia</td>\n",
              "      <td>Samoa</td>\n",
              "      <td>True</td>\n",
              "      <td>18</td>\n",
              "      <td>7</td>\n",
              "      <td>2019</td>\n",
              "      <td>NaN</td>\n",
              "      <td>NaN</td>\n",
              "      <td>NaN</td>\n",
              "      <td>NaN</td>\n",
              "      <td>NaN</td>\n",
              "      <td>NaN</td>\n",
              "      <td>NaN</td>\n",
              "      <td>NaN</td>\n",
              "      <td>NaN</td>\n",
              "      <td>NaN</td>\n",
              "      <td>NaN</td>\n",
              "      <td>NaN</td>\n",
              "      <td>NaN</td>\n",
              "      <td>NaN</td>\n",
              "      <td>NaT</td>\n",
              "    </tr>\n",
              "    <tr>\n",
              "      <th>40835</th>\n",
              "      <td>2019-07-18</td>\n",
              "      <td>Fiji</td>\n",
              "      <td>Solomon Islands</td>\n",
              "      <td>4</td>\n",
              "      <td>4</td>\n",
              "      <td>Pacific Games</td>\n",
              "      <td>Apia</td>\n",
              "      <td>Samoa</td>\n",
              "      <td>True</td>\n",
              "      <td>18</td>\n",
              "      <td>7</td>\n",
              "      <td>2019</td>\n",
              "      <td>NaN</td>\n",
              "      <td>NaN</td>\n",
              "      <td>NaN</td>\n",
              "      <td>NaN</td>\n",
              "      <td>NaN</td>\n",
              "      <td>NaN</td>\n",
              "      <td>NaN</td>\n",
              "      <td>NaN</td>\n",
              "      <td>NaN</td>\n",
              "      <td>NaN</td>\n",
              "      <td>NaN</td>\n",
              "      <td>NaN</td>\n",
              "      <td>NaN</td>\n",
              "      <td>NaN</td>\n",
              "      <td>NaT</td>\n",
              "    </tr>\n",
              "    <tr>\n",
              "      <th>40836</th>\n",
              "      <td>2019-07-19</td>\n",
              "      <td>Senegal</td>\n",
              "      <td>Algeria</td>\n",
              "      <td>0</td>\n",
              "      <td>1</td>\n",
              "      <td>African Cup of Nations</td>\n",
              "      <td>Cairo</td>\n",
              "      <td>Egypt</td>\n",
              "      <td>True</td>\n",
              "      <td>19</td>\n",
              "      <td>7</td>\n",
              "      <td>2019</td>\n",
              "      <td>NaN</td>\n",
              "      <td>NaN</td>\n",
              "      <td>NaN</td>\n",
              "      <td>NaN</td>\n",
              "      <td>NaN</td>\n",
              "      <td>NaN</td>\n",
              "      <td>NaN</td>\n",
              "      <td>NaN</td>\n",
              "      <td>NaN</td>\n",
              "      <td>NaN</td>\n",
              "      <td>NaN</td>\n",
              "      <td>NaN</td>\n",
              "      <td>NaN</td>\n",
              "      <td>NaN</td>\n",
              "      <td>NaT</td>\n",
              "    </tr>\n",
              "    <tr>\n",
              "      <th>40837</th>\n",
              "      <td>2019-07-19</td>\n",
              "      <td>Tajikistan</td>\n",
              "      <td>North Korea</td>\n",
              "      <td>0</td>\n",
              "      <td>1</td>\n",
              "      <td>Intercontinental Cup</td>\n",
              "      <td>Ahmedabad</td>\n",
              "      <td>India</td>\n",
              "      <td>True</td>\n",
              "      <td>19</td>\n",
              "      <td>7</td>\n",
              "      <td>2019</td>\n",
              "      <td>NaN</td>\n",
              "      <td>NaN</td>\n",
              "      <td>NaN</td>\n",
              "      <td>NaN</td>\n",
              "      <td>NaN</td>\n",
              "      <td>NaN</td>\n",
              "      <td>NaN</td>\n",
              "      <td>NaN</td>\n",
              "      <td>NaN</td>\n",
              "      <td>NaN</td>\n",
              "      <td>NaN</td>\n",
              "      <td>NaN</td>\n",
              "      <td>NaN</td>\n",
              "      <td>NaN</td>\n",
              "      <td>NaT</td>\n",
              "    </tr>\n",
              "    <tr>\n",
              "      <th>40838</th>\n",
              "      <td>2019-07-20</td>\n",
              "      <td>Papua New Guinea</td>\n",
              "      <td>Fiji</td>\n",
              "      <td>1</td>\n",
              "      <td>1</td>\n",
              "      <td>Pacific Games</td>\n",
              "      <td>Apia</td>\n",
              "      <td>Samoa</td>\n",
              "      <td>True</td>\n",
              "      <td>20</td>\n",
              "      <td>7</td>\n",
              "      <td>2019</td>\n",
              "      <td>NaN</td>\n",
              "      <td>NaN</td>\n",
              "      <td>NaN</td>\n",
              "      <td>NaN</td>\n",
              "      <td>NaN</td>\n",
              "      <td>NaN</td>\n",
              "      <td>NaN</td>\n",
              "      <td>NaN</td>\n",
              "      <td>NaN</td>\n",
              "      <td>NaN</td>\n",
              "      <td>NaN</td>\n",
              "      <td>NaN</td>\n",
              "      <td>NaN</td>\n",
              "      <td>NaN</td>\n",
              "      <td>NaT</td>\n",
              "    </tr>\n",
              "  </tbody>\n",
              "</table>\n",
              "<p>40839 rows × 27 columns</p>\n",
              "</div>"
            ],
            "text/plain": [
              "            date      country_full  ... confederation  rank_date\n",
              "0     1872-11-30          Scotland  ...           NaN        NaT\n",
              "1     1873-03-08           England  ...           NaN        NaT\n",
              "2     1874-03-07          Scotland  ...           NaN        NaT\n",
              "3     1875-03-06           England  ...           NaN        NaT\n",
              "4     1876-03-04          Scotland  ...           NaN        NaT\n",
              "...          ...               ...  ...           ...        ...\n",
              "40834 2019-07-18    American Samoa  ...           NaN        NaT\n",
              "40835 2019-07-18              Fiji  ...           NaN        NaT\n",
              "40836 2019-07-19           Senegal  ...           NaN        NaT\n",
              "40837 2019-07-19        Tajikistan  ...           NaN        NaT\n",
              "40838 2019-07-20  Papua New Guinea  ...           NaN        NaT\n",
              "\n",
              "[40839 rows x 27 columns]"
            ]
          },
          "metadata": {},
          "execution_count": 410
        }
      ]
    },
    {
      "cell_type": "markdown",
      "metadata": {
        "id": "ATLZQIoe6qmF"
      },
      "source": [
        "Check for null values"
      ]
    },
    {
      "cell_type": "code",
      "metadata": {
        "colab": {
          "base_uri": "https://localhost:8080/"
        },
        "id": "bw2_37PD6xWe",
        "outputId": "506c64cd-43ce-4b05-f626-66bd0b81e826"
      },
      "source": [
        "home_team.isnull().sum()"
      ],
      "execution_count": 411,
      "outputs": [
        {
          "output_type": "execute_result",
          "data": {
            "text/plain": [
              "date                           0\n",
              "country_full                   0\n",
              "away_team                      0\n",
              "home_score                     0\n",
              "away_score                     0\n",
              "tournament                     0\n",
              "city                           0\n",
              "country                        0\n",
              "neutral                        0\n",
              "day                            0\n",
              "month                          0\n",
              "year                           0\n",
              "rank                       39882\n",
              "country_abrv               39882\n",
              "total_points               39882\n",
              "previous_points            39882\n",
              "rank_change                39882\n",
              "cur_year_avg               39882\n",
              "cur_year_avg_weighted      39882\n",
              "last_year_avg              39882\n",
              "last_year_avg_weighted     39882\n",
              "two_year_ago_avg           39882\n",
              "two_year_ago_weighted      39882\n",
              "three_year_ago_avg         39882\n",
              "three_year_ago_weighted    39882\n",
              "confederation              39882\n",
              "rank_date                  39882\n",
              "dtype: int64"
            ]
          },
          "metadata": {},
          "execution_count": 411
        }
      ]
    },
    {
      "cell_type": "markdown",
      "metadata": {
        "id": "QqomcgyA65rb"
      },
      "source": [
        "Dropping Null Values"
      ]
    },
    {
      "cell_type": "code",
      "metadata": {
        "colab": {
          "base_uri": "https://localhost:8080/"
        },
        "id": "g0pH6G0a69XT",
        "outputId": "28854e88-f00b-49e9-dd50-f4dc6c00a9cc"
      },
      "source": [
        "#There are null values in our merged dataframe. These will have to be dropped\n",
        "home_team = home_team.dropna()\n",
        "# Check for remaining null values\n",
        "home_team.isnull().sum()"
      ],
      "execution_count": 412,
      "outputs": [
        {
          "output_type": "execute_result",
          "data": {
            "text/plain": [
              "date                       0\n",
              "country_full               0\n",
              "away_team                  0\n",
              "home_score                 0\n",
              "away_score                 0\n",
              "tournament                 0\n",
              "city                       0\n",
              "country                    0\n",
              "neutral                    0\n",
              "day                        0\n",
              "month                      0\n",
              "year                       0\n",
              "rank                       0\n",
              "country_abrv               0\n",
              "total_points               0\n",
              "previous_points            0\n",
              "rank_change                0\n",
              "cur_year_avg               0\n",
              "cur_year_avg_weighted      0\n",
              "last_year_avg              0\n",
              "last_year_avg_weighted     0\n",
              "two_year_ago_avg           0\n",
              "two_year_ago_weighted      0\n",
              "three_year_ago_avg         0\n",
              "three_year_ago_weighted    0\n",
              "confederation              0\n",
              "rank_date                  0\n",
              "dtype: int64"
            ]
          },
          "metadata": {},
          "execution_count": 412
        }
      ]
    },
    {
      "cell_type": "code",
      "metadata": {
        "colab": {
          "base_uri": "https://localhost:8080/"
        },
        "id": "wviW3vV7_qPz",
        "outputId": "e9a2f762-1c47-4cb5-b2e5-8afc6bc63726"
      },
      "source": [
        "home_team.shape"
      ],
      "execution_count": 413,
      "outputs": [
        {
          "output_type": "execute_result",
          "data": {
            "text/plain": [
              "(957, 27)"
            ]
          },
          "metadata": {},
          "execution_count": 413
        }
      ]
    },
    {
      "cell_type": "markdown",
      "metadata": {
        "id": "XpvnEwSZ7kPQ"
      },
      "source": [
        "Check for duplicated values"
      ]
    },
    {
      "cell_type": "code",
      "metadata": {
        "colab": {
          "base_uri": "https://localhost:8080/"
        },
        "id": "8fBZd3uz7pLB",
        "outputId": "5a18cd0e-4a19-4a32-f072-879b3f9e565b"
      },
      "source": [
        "home_team.duplicated().sum()"
      ],
      "execution_count": 414,
      "outputs": [
        {
          "output_type": "execute_result",
          "data": {
            "text/plain": [
              "0"
            ]
          },
          "metadata": {},
          "execution_count": 414
        }
      ]
    },
    {
      "cell_type": "code",
      "metadata": {
        "colab": {
          "base_uri": "https://localhost:8080/"
        },
        "id": "MjSWoZSE_eND",
        "outputId": "b1756e43-0ec4-40d9-f7cf-f280f64b43e1"
      },
      "source": [
        "# In order to merge the away team, we have to rename the column 'country_full' back to the original title, 'home_team' to be the same as the results\n",
        "\n",
        "home_team = home_team.rename(columns = {'country_full' : 'home_team'})\n",
        "results = results.rename(columns = {'country_full' : 'home_team','away_team':'country_full'})\n",
        "\n",
        "print(\"Home dataframe\")\n",
        "print(home_team.head(10))\n",
        "\n",
        "print(\"\\n \\n Results dataframe\")\n",
        "print(results.head(10))"
      ],
      "execution_count": 415,
      "outputs": [
        {
          "output_type": "stream",
          "name": "stdout",
          "text": [
            "Home dataframe\n",
            "            date     home_team  ... confederation  rank_date\n",
            "17915 1993-08-08       Bolivia  ...      CONMEBOL 1993-08-08\n",
            "17916 1993-08-08        Brazil  ...      CONMEBOL 1993-08-08\n",
            "17917 1993-08-08       Ecuador  ...      CONMEBOL 1993-08-08\n",
            "17918 1993-08-08        Guinea  ...           CAF 1993-08-08\n",
            "17919 1993-08-08      Paraguay  ...      CONMEBOL 1993-08-08\n",
            "17920 1993-08-08          Peru  ...      CONMEBOL 1993-08-08\n",
            "17921 1993-08-08      Zimbabwe  ...           CAF 1993-08-08\n",
            "17977 1993-09-23  Saudi Arabia  ...           AFC 1993-09-23\n",
            "18186 1994-03-15         Gabon  ...           CAF 1994-03-15\n",
            "18187 1994-03-15        Israel  ...          UEFA 1994-03-15\n",
            "\n",
            "[10 rows x 27 columns]\n",
            "\n",
            " \n",
            " Results dataframe\n",
            "        date home_team country_full  home_score  ...  neutral day month  year\n",
            "0 1872-11-30  Scotland      England           0  ...    False  30    11  1872\n",
            "1 1873-03-08   England     Scotland           4  ...    False   8     3  1873\n",
            "2 1874-03-07  Scotland      England           2  ...    False   7     3  1874\n",
            "3 1875-03-06   England     Scotland           2  ...    False   6     3  1875\n",
            "4 1876-03-04  Scotland      England           3  ...    False   4     3  1876\n",
            "5 1876-03-25  Scotland        Wales           4  ...    False  25     3  1876\n",
            "6 1877-03-03   England     Scotland           1  ...    False   3     3  1877\n",
            "7 1877-03-05     Wales     Scotland           0  ...    False   5     3  1877\n",
            "8 1878-03-02  Scotland      England           7  ...    False   2     3  1878\n",
            "9 1878-03-23  Scotland        Wales           9  ...    False  23     3  1878\n",
            "\n",
            "[10 rows x 12 columns]\n"
          ]
        }
      ]
    },
    {
      "cell_type": "code",
      "metadata": {
        "colab": {
          "base_uri": "https://localhost:8080/",
          "height": 617
        },
        "id": "kbXBDwFsEZnN",
        "outputId": "40545355-ab14-48c9-dfb8-8458fa395484"
      },
      "source": [
        "#Merging the rankings and results dataframe by country and date for the away team\n",
        "\n",
        "away_team = results.merge(ranking, how = 'left', right_on = ['country_full','month','year','day'], left_on=['country_full','month','year','day'])\n",
        "away_team"
      ],
      "execution_count": 416,
      "outputs": [
        {
          "output_type": "execute_result",
          "data": {
            "text/html": [
              "<div>\n",
              "<style scoped>\n",
              "    .dataframe tbody tr th:only-of-type {\n",
              "        vertical-align: middle;\n",
              "    }\n",
              "\n",
              "    .dataframe tbody tr th {\n",
              "        vertical-align: top;\n",
              "    }\n",
              "\n",
              "    .dataframe thead th {\n",
              "        text-align: right;\n",
              "    }\n",
              "</style>\n",
              "<table border=\"1\" class=\"dataframe\">\n",
              "  <thead>\n",
              "    <tr style=\"text-align: right;\">\n",
              "      <th></th>\n",
              "      <th>date</th>\n",
              "      <th>home_team</th>\n",
              "      <th>country_full</th>\n",
              "      <th>home_score</th>\n",
              "      <th>away_score</th>\n",
              "      <th>tournament</th>\n",
              "      <th>city</th>\n",
              "      <th>country</th>\n",
              "      <th>neutral</th>\n",
              "      <th>day</th>\n",
              "      <th>month</th>\n",
              "      <th>year</th>\n",
              "      <th>rank</th>\n",
              "      <th>country_abrv</th>\n",
              "      <th>total_points</th>\n",
              "      <th>previous_points</th>\n",
              "      <th>rank_change</th>\n",
              "      <th>cur_year_avg</th>\n",
              "      <th>cur_year_avg_weighted</th>\n",
              "      <th>last_year_avg</th>\n",
              "      <th>last_year_avg_weighted</th>\n",
              "      <th>two_year_ago_avg</th>\n",
              "      <th>two_year_ago_weighted</th>\n",
              "      <th>three_year_ago_avg</th>\n",
              "      <th>three_year_ago_weighted</th>\n",
              "      <th>confederation</th>\n",
              "      <th>rank_date</th>\n",
              "    </tr>\n",
              "  </thead>\n",
              "  <tbody>\n",
              "    <tr>\n",
              "      <th>0</th>\n",
              "      <td>1872-11-30</td>\n",
              "      <td>Scotland</td>\n",
              "      <td>England</td>\n",
              "      <td>0</td>\n",
              "      <td>0</td>\n",
              "      <td>Friendly</td>\n",
              "      <td>Glasgow</td>\n",
              "      <td>Scotland</td>\n",
              "      <td>False</td>\n",
              "      <td>30</td>\n",
              "      <td>11</td>\n",
              "      <td>1872</td>\n",
              "      <td>NaN</td>\n",
              "      <td>NaN</td>\n",
              "      <td>NaN</td>\n",
              "      <td>NaN</td>\n",
              "      <td>NaN</td>\n",
              "      <td>NaN</td>\n",
              "      <td>NaN</td>\n",
              "      <td>NaN</td>\n",
              "      <td>NaN</td>\n",
              "      <td>NaN</td>\n",
              "      <td>NaN</td>\n",
              "      <td>NaN</td>\n",
              "      <td>NaN</td>\n",
              "      <td>NaN</td>\n",
              "      <td>NaT</td>\n",
              "    </tr>\n",
              "    <tr>\n",
              "      <th>1</th>\n",
              "      <td>1873-03-08</td>\n",
              "      <td>England</td>\n",
              "      <td>Scotland</td>\n",
              "      <td>4</td>\n",
              "      <td>2</td>\n",
              "      <td>Friendly</td>\n",
              "      <td>London</td>\n",
              "      <td>England</td>\n",
              "      <td>False</td>\n",
              "      <td>8</td>\n",
              "      <td>3</td>\n",
              "      <td>1873</td>\n",
              "      <td>NaN</td>\n",
              "      <td>NaN</td>\n",
              "      <td>NaN</td>\n",
              "      <td>NaN</td>\n",
              "      <td>NaN</td>\n",
              "      <td>NaN</td>\n",
              "      <td>NaN</td>\n",
              "      <td>NaN</td>\n",
              "      <td>NaN</td>\n",
              "      <td>NaN</td>\n",
              "      <td>NaN</td>\n",
              "      <td>NaN</td>\n",
              "      <td>NaN</td>\n",
              "      <td>NaN</td>\n",
              "      <td>NaT</td>\n",
              "    </tr>\n",
              "    <tr>\n",
              "      <th>2</th>\n",
              "      <td>1874-03-07</td>\n",
              "      <td>Scotland</td>\n",
              "      <td>England</td>\n",
              "      <td>2</td>\n",
              "      <td>1</td>\n",
              "      <td>Friendly</td>\n",
              "      <td>Glasgow</td>\n",
              "      <td>Scotland</td>\n",
              "      <td>False</td>\n",
              "      <td>7</td>\n",
              "      <td>3</td>\n",
              "      <td>1874</td>\n",
              "      <td>NaN</td>\n",
              "      <td>NaN</td>\n",
              "      <td>NaN</td>\n",
              "      <td>NaN</td>\n",
              "      <td>NaN</td>\n",
              "      <td>NaN</td>\n",
              "      <td>NaN</td>\n",
              "      <td>NaN</td>\n",
              "      <td>NaN</td>\n",
              "      <td>NaN</td>\n",
              "      <td>NaN</td>\n",
              "      <td>NaN</td>\n",
              "      <td>NaN</td>\n",
              "      <td>NaN</td>\n",
              "      <td>NaT</td>\n",
              "    </tr>\n",
              "    <tr>\n",
              "      <th>3</th>\n",
              "      <td>1875-03-06</td>\n",
              "      <td>England</td>\n",
              "      <td>Scotland</td>\n",
              "      <td>2</td>\n",
              "      <td>2</td>\n",
              "      <td>Friendly</td>\n",
              "      <td>London</td>\n",
              "      <td>England</td>\n",
              "      <td>False</td>\n",
              "      <td>6</td>\n",
              "      <td>3</td>\n",
              "      <td>1875</td>\n",
              "      <td>NaN</td>\n",
              "      <td>NaN</td>\n",
              "      <td>NaN</td>\n",
              "      <td>NaN</td>\n",
              "      <td>NaN</td>\n",
              "      <td>NaN</td>\n",
              "      <td>NaN</td>\n",
              "      <td>NaN</td>\n",
              "      <td>NaN</td>\n",
              "      <td>NaN</td>\n",
              "      <td>NaN</td>\n",
              "      <td>NaN</td>\n",
              "      <td>NaN</td>\n",
              "      <td>NaN</td>\n",
              "      <td>NaT</td>\n",
              "    </tr>\n",
              "    <tr>\n",
              "      <th>4</th>\n",
              "      <td>1876-03-04</td>\n",
              "      <td>Scotland</td>\n",
              "      <td>England</td>\n",
              "      <td>3</td>\n",
              "      <td>0</td>\n",
              "      <td>Friendly</td>\n",
              "      <td>Glasgow</td>\n",
              "      <td>Scotland</td>\n",
              "      <td>False</td>\n",
              "      <td>4</td>\n",
              "      <td>3</td>\n",
              "      <td>1876</td>\n",
              "      <td>NaN</td>\n",
              "      <td>NaN</td>\n",
              "      <td>NaN</td>\n",
              "      <td>NaN</td>\n",
              "      <td>NaN</td>\n",
              "      <td>NaN</td>\n",
              "      <td>NaN</td>\n",
              "      <td>NaN</td>\n",
              "      <td>NaN</td>\n",
              "      <td>NaN</td>\n",
              "      <td>NaN</td>\n",
              "      <td>NaN</td>\n",
              "      <td>NaN</td>\n",
              "      <td>NaN</td>\n",
              "      <td>NaT</td>\n",
              "    </tr>\n",
              "    <tr>\n",
              "      <th>...</th>\n",
              "      <td>...</td>\n",
              "      <td>...</td>\n",
              "      <td>...</td>\n",
              "      <td>...</td>\n",
              "      <td>...</td>\n",
              "      <td>...</td>\n",
              "      <td>...</td>\n",
              "      <td>...</td>\n",
              "      <td>...</td>\n",
              "      <td>...</td>\n",
              "      <td>...</td>\n",
              "      <td>...</td>\n",
              "      <td>...</td>\n",
              "      <td>...</td>\n",
              "      <td>...</td>\n",
              "      <td>...</td>\n",
              "      <td>...</td>\n",
              "      <td>...</td>\n",
              "      <td>...</td>\n",
              "      <td>...</td>\n",
              "      <td>...</td>\n",
              "      <td>...</td>\n",
              "      <td>...</td>\n",
              "      <td>...</td>\n",
              "      <td>...</td>\n",
              "      <td>...</td>\n",
              "      <td>...</td>\n",
              "    </tr>\n",
              "    <tr>\n",
              "      <th>40834</th>\n",
              "      <td>2019-07-18</td>\n",
              "      <td>American Samoa</td>\n",
              "      <td>Tahiti</td>\n",
              "      <td>8</td>\n",
              "      <td>1</td>\n",
              "      <td>Pacific Games</td>\n",
              "      <td>Apia</td>\n",
              "      <td>Samoa</td>\n",
              "      <td>True</td>\n",
              "      <td>18</td>\n",
              "      <td>7</td>\n",
              "      <td>2019</td>\n",
              "      <td>NaN</td>\n",
              "      <td>NaN</td>\n",
              "      <td>NaN</td>\n",
              "      <td>NaN</td>\n",
              "      <td>NaN</td>\n",
              "      <td>NaN</td>\n",
              "      <td>NaN</td>\n",
              "      <td>NaN</td>\n",
              "      <td>NaN</td>\n",
              "      <td>NaN</td>\n",
              "      <td>NaN</td>\n",
              "      <td>NaN</td>\n",
              "      <td>NaN</td>\n",
              "      <td>NaN</td>\n",
              "      <td>NaT</td>\n",
              "    </tr>\n",
              "    <tr>\n",
              "      <th>40835</th>\n",
              "      <td>2019-07-18</td>\n",
              "      <td>Fiji</td>\n",
              "      <td>Solomon Islands</td>\n",
              "      <td>4</td>\n",
              "      <td>4</td>\n",
              "      <td>Pacific Games</td>\n",
              "      <td>Apia</td>\n",
              "      <td>Samoa</td>\n",
              "      <td>True</td>\n",
              "      <td>18</td>\n",
              "      <td>7</td>\n",
              "      <td>2019</td>\n",
              "      <td>NaN</td>\n",
              "      <td>NaN</td>\n",
              "      <td>NaN</td>\n",
              "      <td>NaN</td>\n",
              "      <td>NaN</td>\n",
              "      <td>NaN</td>\n",
              "      <td>NaN</td>\n",
              "      <td>NaN</td>\n",
              "      <td>NaN</td>\n",
              "      <td>NaN</td>\n",
              "      <td>NaN</td>\n",
              "      <td>NaN</td>\n",
              "      <td>NaN</td>\n",
              "      <td>NaN</td>\n",
              "      <td>NaT</td>\n",
              "    </tr>\n",
              "    <tr>\n",
              "      <th>40836</th>\n",
              "      <td>2019-07-19</td>\n",
              "      <td>Senegal</td>\n",
              "      <td>Algeria</td>\n",
              "      <td>0</td>\n",
              "      <td>1</td>\n",
              "      <td>African Cup of Nations</td>\n",
              "      <td>Cairo</td>\n",
              "      <td>Egypt</td>\n",
              "      <td>True</td>\n",
              "      <td>19</td>\n",
              "      <td>7</td>\n",
              "      <td>2019</td>\n",
              "      <td>NaN</td>\n",
              "      <td>NaN</td>\n",
              "      <td>NaN</td>\n",
              "      <td>NaN</td>\n",
              "      <td>NaN</td>\n",
              "      <td>NaN</td>\n",
              "      <td>NaN</td>\n",
              "      <td>NaN</td>\n",
              "      <td>NaN</td>\n",
              "      <td>NaN</td>\n",
              "      <td>NaN</td>\n",
              "      <td>NaN</td>\n",
              "      <td>NaN</td>\n",
              "      <td>NaN</td>\n",
              "      <td>NaT</td>\n",
              "    </tr>\n",
              "    <tr>\n",
              "      <th>40837</th>\n",
              "      <td>2019-07-19</td>\n",
              "      <td>Tajikistan</td>\n",
              "      <td>North Korea</td>\n",
              "      <td>0</td>\n",
              "      <td>1</td>\n",
              "      <td>Intercontinental Cup</td>\n",
              "      <td>Ahmedabad</td>\n",
              "      <td>India</td>\n",
              "      <td>True</td>\n",
              "      <td>19</td>\n",
              "      <td>7</td>\n",
              "      <td>2019</td>\n",
              "      <td>NaN</td>\n",
              "      <td>NaN</td>\n",
              "      <td>NaN</td>\n",
              "      <td>NaN</td>\n",
              "      <td>NaN</td>\n",
              "      <td>NaN</td>\n",
              "      <td>NaN</td>\n",
              "      <td>NaN</td>\n",
              "      <td>NaN</td>\n",
              "      <td>NaN</td>\n",
              "      <td>NaN</td>\n",
              "      <td>NaN</td>\n",
              "      <td>NaN</td>\n",
              "      <td>NaN</td>\n",
              "      <td>NaT</td>\n",
              "    </tr>\n",
              "    <tr>\n",
              "      <th>40838</th>\n",
              "      <td>2019-07-20</td>\n",
              "      <td>Papua New Guinea</td>\n",
              "      <td>Fiji</td>\n",
              "      <td>1</td>\n",
              "      <td>1</td>\n",
              "      <td>Pacific Games</td>\n",
              "      <td>Apia</td>\n",
              "      <td>Samoa</td>\n",
              "      <td>True</td>\n",
              "      <td>20</td>\n",
              "      <td>7</td>\n",
              "      <td>2019</td>\n",
              "      <td>NaN</td>\n",
              "      <td>NaN</td>\n",
              "      <td>NaN</td>\n",
              "      <td>NaN</td>\n",
              "      <td>NaN</td>\n",
              "      <td>NaN</td>\n",
              "      <td>NaN</td>\n",
              "      <td>NaN</td>\n",
              "      <td>NaN</td>\n",
              "      <td>NaN</td>\n",
              "      <td>NaN</td>\n",
              "      <td>NaN</td>\n",
              "      <td>NaN</td>\n",
              "      <td>NaN</td>\n",
              "      <td>NaT</td>\n",
              "    </tr>\n",
              "  </tbody>\n",
              "</table>\n",
              "<p>40839 rows × 27 columns</p>\n",
              "</div>"
            ],
            "text/plain": [
              "            date         home_team  ... confederation  rank_date\n",
              "0     1872-11-30          Scotland  ...           NaN        NaT\n",
              "1     1873-03-08           England  ...           NaN        NaT\n",
              "2     1874-03-07          Scotland  ...           NaN        NaT\n",
              "3     1875-03-06           England  ...           NaN        NaT\n",
              "4     1876-03-04          Scotland  ...           NaN        NaT\n",
              "...          ...               ...  ...           ...        ...\n",
              "40834 2019-07-18    American Samoa  ...           NaN        NaT\n",
              "40835 2019-07-18              Fiji  ...           NaN        NaT\n",
              "40836 2019-07-19           Senegal  ...           NaN        NaT\n",
              "40837 2019-07-19        Tajikistan  ...           NaN        NaT\n",
              "40838 2019-07-20  Papua New Guinea  ...           NaN        NaT\n",
              "\n",
              "[40839 rows x 27 columns]"
            ]
          },
          "metadata": {},
          "execution_count": 416
        }
      ]
    },
    {
      "cell_type": "code",
      "metadata": {
        "colab": {
          "base_uri": "https://localhost:8080/"
        },
        "id": "Vih01scFEZNx",
        "outputId": "ac753f95-e8cc-4715-a5f8-297cbe96a3ae"
      },
      "source": [
        "#Check for presence of null values\n",
        "away_team.isnull().sum()"
      ],
      "execution_count": 417,
      "outputs": [
        {
          "output_type": "execute_result",
          "data": {
            "text/plain": [
              "date                           0\n",
              "home_team                      0\n",
              "country_full                   0\n",
              "home_score                     0\n",
              "away_score                     0\n",
              "tournament                     0\n",
              "city                           0\n",
              "country                        0\n",
              "neutral                        0\n",
              "day                            0\n",
              "month                          0\n",
              "year                           0\n",
              "rank                       39906\n",
              "country_abrv               39906\n",
              "total_points               39906\n",
              "previous_points            39906\n",
              "rank_change                39906\n",
              "cur_year_avg               39906\n",
              "cur_year_avg_weighted      39906\n",
              "last_year_avg              39906\n",
              "last_year_avg_weighted     39906\n",
              "two_year_ago_avg           39906\n",
              "two_year_ago_weighted      39906\n",
              "three_year_ago_avg         39906\n",
              "three_year_ago_weighted    39906\n",
              "confederation              39906\n",
              "rank_date                  39906\n",
              "dtype: int64"
            ]
          },
          "metadata": {},
          "execution_count": 417
        }
      ]
    },
    {
      "cell_type": "markdown",
      "metadata": {
        "id": "0VLe6z-VFUpX"
      },
      "source": [
        "Dropping null values"
      ]
    },
    {
      "cell_type": "code",
      "metadata": {
        "colab": {
          "base_uri": "https://localhost:8080/"
        },
        "id": "w4DqG0c9FTe3",
        "outputId": "d475b3e0-faa3-4b9b-89fa-8091fc6cc5f5"
      },
      "source": [
        "# #There are null values in our merged dataframe. These will have to be dropped\n",
        "away_team = away_team.dropna()\n",
        "away_team.isnull().sum()"
      ],
      "execution_count": 418,
      "outputs": [
        {
          "output_type": "execute_result",
          "data": {
            "text/plain": [
              "date                       0\n",
              "home_team                  0\n",
              "country_full               0\n",
              "home_score                 0\n",
              "away_score                 0\n",
              "tournament                 0\n",
              "city                       0\n",
              "country                    0\n",
              "neutral                    0\n",
              "day                        0\n",
              "month                      0\n",
              "year                       0\n",
              "rank                       0\n",
              "country_abrv               0\n",
              "total_points               0\n",
              "previous_points            0\n",
              "rank_change                0\n",
              "cur_year_avg               0\n",
              "cur_year_avg_weighted      0\n",
              "last_year_avg              0\n",
              "last_year_avg_weighted     0\n",
              "two_year_ago_avg           0\n",
              "two_year_ago_weighted      0\n",
              "three_year_ago_avg         0\n",
              "three_year_ago_weighted    0\n",
              "confederation              0\n",
              "rank_date                  0\n",
              "dtype: int64"
            ]
          },
          "metadata": {},
          "execution_count": 418
        }
      ]
    },
    {
      "cell_type": "code",
      "metadata": {
        "colab": {
          "base_uri": "https://localhost:8080/"
        },
        "id": "HtZnTT__Hk7u",
        "outputId": "bb15c6d8-10ab-44e4-a1b5-d782312fe0dc"
      },
      "source": [
        "#check for duplicate values\n",
        "print(\"Number of Duplicates: \",away_team.duplicated().sum())\n",
        "print(\"***********************\")\n",
        "away_team = away_team.rename(columns = {'country_full' : 'away_team'})\n",
        "print(away_team)"
      ],
      "execution_count": 419,
      "outputs": [
        {
          "output_type": "stream",
          "name": "stdout",
          "text": [
            "Number of Duplicates:  0\n",
            "***********************\n",
            "            date    home_team  ... confederation  rank_date\n",
            "17915 1993-08-08      Bolivia  ...      CONMEBOL 1993-08-08\n",
            "17916 1993-08-08       Brazil  ...      CONCACAF 1993-08-08\n",
            "17917 1993-08-08      Ecuador  ...      CONMEBOL 1993-08-08\n",
            "17918 1993-08-08       Guinea  ...           CAF 1993-08-08\n",
            "17919 1993-08-08     Paraguay  ...      CONMEBOL 1993-08-08\n",
            "...          ...          ...  ...           ...        ...\n",
            "39821 2018-06-07      Uruguay  ...           AFC 2018-06-07\n",
            "39822 2018-06-07     Portugal  ...           CAF 2018-06-07\n",
            "39823 2018-06-07  South Korea  ...      CONMEBOL 2018-06-07\n",
            "39824 2018-06-07      Iceland  ...           CAF 2018-06-07\n",
            "39826 2018-06-07        India  ...           OFC 2018-06-07\n",
            "\n",
            "[933 rows x 27 columns]\n"
          ]
        }
      ]
    },
    {
      "cell_type": "markdown",
      "metadata": {
        "id": "lTyXvfTXIoH3"
      },
      "source": [
        "Merge to a final dataset"
      ]
    },
    {
      "cell_type": "code",
      "metadata": {
        "colab": {
          "base_uri": "https://localhost:8080/",
          "height": 651
        },
        "id": "JXBUXOeVItHU",
        "outputId": "5c2f7ef6-9b08-4aa2-ccf2-8945381aaba4"
      },
      "source": [
        "#Merge to our final dataframe\n",
        "df_all = home_team.merge(away_team, how='left', left_on = ['date','home_team','away_team','tournament'],right_on = ['date','home_team','away_team','tournament'])\n",
        "df_all\n"
      ],
      "execution_count": 420,
      "outputs": [
        {
          "output_type": "execute_result",
          "data": {
            "text/html": [
              "<div>\n",
              "<style scoped>\n",
              "    .dataframe tbody tr th:only-of-type {\n",
              "        vertical-align: middle;\n",
              "    }\n",
              "\n",
              "    .dataframe tbody tr th {\n",
              "        vertical-align: top;\n",
              "    }\n",
              "\n",
              "    .dataframe thead th {\n",
              "        text-align: right;\n",
              "    }\n",
              "</style>\n",
              "<table border=\"1\" class=\"dataframe\">\n",
              "  <thead>\n",
              "    <tr style=\"text-align: right;\">\n",
              "      <th></th>\n",
              "      <th>date</th>\n",
              "      <th>home_team</th>\n",
              "      <th>away_team</th>\n",
              "      <th>home_score_x</th>\n",
              "      <th>away_score_x</th>\n",
              "      <th>tournament</th>\n",
              "      <th>city_x</th>\n",
              "      <th>country_x</th>\n",
              "      <th>neutral_x</th>\n",
              "      <th>day_x</th>\n",
              "      <th>month_x</th>\n",
              "      <th>year_x</th>\n",
              "      <th>rank_x</th>\n",
              "      <th>country_abrv_x</th>\n",
              "      <th>total_points_x</th>\n",
              "      <th>previous_points_x</th>\n",
              "      <th>rank_change_x</th>\n",
              "      <th>cur_year_avg_x</th>\n",
              "      <th>cur_year_avg_weighted_x</th>\n",
              "      <th>last_year_avg_x</th>\n",
              "      <th>last_year_avg_weighted_x</th>\n",
              "      <th>two_year_ago_avg_x</th>\n",
              "      <th>two_year_ago_weighted_x</th>\n",
              "      <th>three_year_ago_avg_x</th>\n",
              "      <th>three_year_ago_weighted_x</th>\n",
              "      <th>confederation_x</th>\n",
              "      <th>rank_date_x</th>\n",
              "      <th>home_score_y</th>\n",
              "      <th>away_score_y</th>\n",
              "      <th>city_y</th>\n",
              "      <th>country_y</th>\n",
              "      <th>neutral_y</th>\n",
              "      <th>day_y</th>\n",
              "      <th>month_y</th>\n",
              "      <th>year_y</th>\n",
              "      <th>rank_y</th>\n",
              "      <th>country_abrv_y</th>\n",
              "      <th>total_points_y</th>\n",
              "      <th>previous_points_y</th>\n",
              "      <th>rank_change_y</th>\n",
              "      <th>cur_year_avg_y</th>\n",
              "      <th>cur_year_avg_weighted_y</th>\n",
              "      <th>last_year_avg_y</th>\n",
              "      <th>last_year_avg_weighted_y</th>\n",
              "      <th>two_year_ago_avg_y</th>\n",
              "      <th>two_year_ago_weighted_y</th>\n",
              "      <th>three_year_ago_avg_y</th>\n",
              "      <th>three_year_ago_weighted_y</th>\n",
              "      <th>confederation_y</th>\n",
              "      <th>rank_date_y</th>\n",
              "    </tr>\n",
              "  </thead>\n",
              "  <tbody>\n",
              "    <tr>\n",
              "      <th>0</th>\n",
              "      <td>1993-08-08</td>\n",
              "      <td>Bolivia</td>\n",
              "      <td>Uruguay</td>\n",
              "      <td>3</td>\n",
              "      <td>1</td>\n",
              "      <td>FIFA World Cup qualification</td>\n",
              "      <td>La Paz</td>\n",
              "      <td>Bolivia</td>\n",
              "      <td>False</td>\n",
              "      <td>8</td>\n",
              "      <td>8</td>\n",
              "      <td>1993</td>\n",
              "      <td>59.0</td>\n",
              "      <td>BOL</td>\n",
              "      <td>0.00</td>\n",
              "      <td>13.0</td>\n",
              "      <td>28.0</td>\n",
              "      <td>0.00</td>\n",
              "      <td>0.00</td>\n",
              "      <td>0.00</td>\n",
              "      <td>0.00</td>\n",
              "      <td>0.00</td>\n",
              "      <td>0.00</td>\n",
              "      <td>0.00</td>\n",
              "      <td>0.00</td>\n",
              "      <td>CONMEBOL</td>\n",
              "      <td>1993-08-08</td>\n",
              "      <td>3.0</td>\n",
              "      <td>1.0</td>\n",
              "      <td>La Paz</td>\n",
              "      <td>Bolivia</td>\n",
              "      <td>False</td>\n",
              "      <td>8.0</td>\n",
              "      <td>8.0</td>\n",
              "      <td>1993.0</td>\n",
              "      <td>22.0</td>\n",
              "      <td>URU</td>\n",
              "      <td>0.00</td>\n",
              "      <td>47.0</td>\n",
              "      <td>-6.0</td>\n",
              "      <td>0.00</td>\n",
              "      <td>0.00</td>\n",
              "      <td>0.00</td>\n",
              "      <td>0.00</td>\n",
              "      <td>0.00</td>\n",
              "      <td>0.00</td>\n",
              "      <td>0.00</td>\n",
              "      <td>0.00</td>\n",
              "      <td>CONMEBOL</td>\n",
              "      <td>1993-08-08</td>\n",
              "    </tr>\n",
              "    <tr>\n",
              "      <th>1</th>\n",
              "      <td>1993-08-08</td>\n",
              "      <td>Brazil</td>\n",
              "      <td>Mexico</td>\n",
              "      <td>1</td>\n",
              "      <td>1</td>\n",
              "      <td>Friendly</td>\n",
              "      <td>Maceió</td>\n",
              "      <td>Brazil</td>\n",
              "      <td>False</td>\n",
              "      <td>8</td>\n",
              "      <td>8</td>\n",
              "      <td>1993</td>\n",
              "      <td>8.0</td>\n",
              "      <td>BRA</td>\n",
              "      <td>0.00</td>\n",
              "      <td>55.0</td>\n",
              "      <td>-5.0</td>\n",
              "      <td>0.00</td>\n",
              "      <td>0.00</td>\n",
              "      <td>0.00</td>\n",
              "      <td>0.00</td>\n",
              "      <td>0.00</td>\n",
              "      <td>0.00</td>\n",
              "      <td>0.00</td>\n",
              "      <td>0.00</td>\n",
              "      <td>CONMEBOL</td>\n",
              "      <td>1993-08-08</td>\n",
              "      <td>1.0</td>\n",
              "      <td>1.0</td>\n",
              "      <td>Maceió</td>\n",
              "      <td>Brazil</td>\n",
              "      <td>False</td>\n",
              "      <td>8.0</td>\n",
              "      <td>8.0</td>\n",
              "      <td>1993.0</td>\n",
              "      <td>14.0</td>\n",
              "      <td>MEX</td>\n",
              "      <td>0.00</td>\n",
              "      <td>42.0</td>\n",
              "      <td>11.0</td>\n",
              "      <td>0.00</td>\n",
              "      <td>0.00</td>\n",
              "      <td>0.00</td>\n",
              "      <td>0.00</td>\n",
              "      <td>0.00</td>\n",
              "      <td>0.00</td>\n",
              "      <td>0.00</td>\n",
              "      <td>0.00</td>\n",
              "      <td>CONCACAF</td>\n",
              "      <td>1993-08-08</td>\n",
              "    </tr>\n",
              "    <tr>\n",
              "      <th>2</th>\n",
              "      <td>1993-08-08</td>\n",
              "      <td>Ecuador</td>\n",
              "      <td>Venezuela</td>\n",
              "      <td>5</td>\n",
              "      <td>0</td>\n",
              "      <td>FIFA World Cup qualification</td>\n",
              "      <td>Quito</td>\n",
              "      <td>Ecuador</td>\n",
              "      <td>False</td>\n",
              "      <td>8</td>\n",
              "      <td>8</td>\n",
              "      <td>1993</td>\n",
              "      <td>35.0</td>\n",
              "      <td>ECU</td>\n",
              "      <td>0.00</td>\n",
              "      <td>23.0</td>\n",
              "      <td>30.0</td>\n",
              "      <td>0.00</td>\n",
              "      <td>0.00</td>\n",
              "      <td>0.00</td>\n",
              "      <td>0.00</td>\n",
              "      <td>0.00</td>\n",
              "      <td>0.00</td>\n",
              "      <td>0.00</td>\n",
              "      <td>0.00</td>\n",
              "      <td>CONMEBOL</td>\n",
              "      <td>1993-08-08</td>\n",
              "      <td>5.0</td>\n",
              "      <td>0.0</td>\n",
              "      <td>Quito</td>\n",
              "      <td>Ecuador</td>\n",
              "      <td>False</td>\n",
              "      <td>8.0</td>\n",
              "      <td>8.0</td>\n",
              "      <td>1993.0</td>\n",
              "      <td>94.0</td>\n",
              "      <td>VEN</td>\n",
              "      <td>0.00</td>\n",
              "      <td>4.0</td>\n",
              "      <td>31.0</td>\n",
              "      <td>0.00</td>\n",
              "      <td>0.00</td>\n",
              "      <td>0.00</td>\n",
              "      <td>0.00</td>\n",
              "      <td>0.00</td>\n",
              "      <td>0.00</td>\n",
              "      <td>0.00</td>\n",
              "      <td>0.00</td>\n",
              "      <td>CONMEBOL</td>\n",
              "      <td>1993-08-08</td>\n",
              "    </tr>\n",
              "    <tr>\n",
              "      <th>3</th>\n",
              "      <td>1993-08-08</td>\n",
              "      <td>Guinea</td>\n",
              "      <td>Sierra Leone</td>\n",
              "      <td>1</td>\n",
              "      <td>0</td>\n",
              "      <td>Friendly</td>\n",
              "      <td>Conakry</td>\n",
              "      <td>Guinea</td>\n",
              "      <td>False</td>\n",
              "      <td>8</td>\n",
              "      <td>8</td>\n",
              "      <td>1993</td>\n",
              "      <td>65.0</td>\n",
              "      <td>GUI</td>\n",
              "      <td>0.00</td>\n",
              "      <td>23.0</td>\n",
              "      <td>-2.0</td>\n",
              "      <td>0.00</td>\n",
              "      <td>0.00</td>\n",
              "      <td>0.00</td>\n",
              "      <td>0.00</td>\n",
              "      <td>0.00</td>\n",
              "      <td>0.00</td>\n",
              "      <td>0.00</td>\n",
              "      <td>0.00</td>\n",
              "      <td>CAF</td>\n",
              "      <td>1993-08-08</td>\n",
              "      <td>1.0</td>\n",
              "      <td>0.0</td>\n",
              "      <td>Conakry</td>\n",
              "      <td>Guinea</td>\n",
              "      <td>False</td>\n",
              "      <td>8.0</td>\n",
              "      <td>8.0</td>\n",
              "      <td>1993.0</td>\n",
              "      <td>86.0</td>\n",
              "      <td>SLE</td>\n",
              "      <td>0.00</td>\n",
              "      <td>16.0</td>\n",
              "      <td>-7.0</td>\n",
              "      <td>0.00</td>\n",
              "      <td>0.00</td>\n",
              "      <td>0.00</td>\n",
              "      <td>0.00</td>\n",
              "      <td>0.00</td>\n",
              "      <td>0.00</td>\n",
              "      <td>0.00</td>\n",
              "      <td>0.00</td>\n",
              "      <td>CAF</td>\n",
              "      <td>1993-08-08</td>\n",
              "    </tr>\n",
              "    <tr>\n",
              "      <th>4</th>\n",
              "      <td>1993-08-08</td>\n",
              "      <td>Paraguay</td>\n",
              "      <td>Argentina</td>\n",
              "      <td>1</td>\n",
              "      <td>3</td>\n",
              "      <td>FIFA World Cup qualification</td>\n",
              "      <td>Asunción</td>\n",
              "      <td>Paraguay</td>\n",
              "      <td>False</td>\n",
              "      <td>8</td>\n",
              "      <td>8</td>\n",
              "      <td>1993</td>\n",
              "      <td>67.0</td>\n",
              "      <td>PAR</td>\n",
              "      <td>0.00</td>\n",
              "      <td>22.0</td>\n",
              "      <td>1.0</td>\n",
              "      <td>0.00</td>\n",
              "      <td>0.00</td>\n",
              "      <td>0.00</td>\n",
              "      <td>0.00</td>\n",
              "      <td>0.00</td>\n",
              "      <td>0.00</td>\n",
              "      <td>0.00</td>\n",
              "      <td>0.00</td>\n",
              "      <td>CONMEBOL</td>\n",
              "      <td>1993-08-08</td>\n",
              "      <td>1.0</td>\n",
              "      <td>3.0</td>\n",
              "      <td>Asunción</td>\n",
              "      <td>Paraguay</td>\n",
              "      <td>False</td>\n",
              "      <td>8.0</td>\n",
              "      <td>8.0</td>\n",
              "      <td>1993.0</td>\n",
              "      <td>5.0</td>\n",
              "      <td>ARG</td>\n",
              "      <td>0.00</td>\n",
              "      <td>51.0</td>\n",
              "      <td>5.0</td>\n",
              "      <td>0.00</td>\n",
              "      <td>0.00</td>\n",
              "      <td>0.00</td>\n",
              "      <td>0.00</td>\n",
              "      <td>0.00</td>\n",
              "      <td>0.00</td>\n",
              "      <td>0.00</td>\n",
              "      <td>0.00</td>\n",
              "      <td>CONMEBOL</td>\n",
              "      <td>1993-08-08</td>\n",
              "    </tr>\n",
              "    <tr>\n",
              "      <th>...</th>\n",
              "      <td>...</td>\n",
              "      <td>...</td>\n",
              "      <td>...</td>\n",
              "      <td>...</td>\n",
              "      <td>...</td>\n",
              "      <td>...</td>\n",
              "      <td>...</td>\n",
              "      <td>...</td>\n",
              "      <td>...</td>\n",
              "      <td>...</td>\n",
              "      <td>...</td>\n",
              "      <td>...</td>\n",
              "      <td>...</td>\n",
              "      <td>...</td>\n",
              "      <td>...</td>\n",
              "      <td>...</td>\n",
              "      <td>...</td>\n",
              "      <td>...</td>\n",
              "      <td>...</td>\n",
              "      <td>...</td>\n",
              "      <td>...</td>\n",
              "      <td>...</td>\n",
              "      <td>...</td>\n",
              "      <td>...</td>\n",
              "      <td>...</td>\n",
              "      <td>...</td>\n",
              "      <td>...</td>\n",
              "      <td>...</td>\n",
              "      <td>...</td>\n",
              "      <td>...</td>\n",
              "      <td>...</td>\n",
              "      <td>...</td>\n",
              "      <td>...</td>\n",
              "      <td>...</td>\n",
              "      <td>...</td>\n",
              "      <td>...</td>\n",
              "      <td>...</td>\n",
              "      <td>...</td>\n",
              "      <td>...</td>\n",
              "      <td>...</td>\n",
              "      <td>...</td>\n",
              "      <td>...</td>\n",
              "      <td>...</td>\n",
              "      <td>...</td>\n",
              "      <td>...</td>\n",
              "      <td>...</td>\n",
              "      <td>...</td>\n",
              "      <td>...</td>\n",
              "      <td>...</td>\n",
              "      <td>...</td>\n",
              "    </tr>\n",
              "    <tr>\n",
              "      <th>952</th>\n",
              "      <td>2018-06-07</td>\n",
              "      <td>England</td>\n",
              "      <td>Costa Rica</td>\n",
              "      <td>2</td>\n",
              "      <td>0</td>\n",
              "      <td>Friendly</td>\n",
              "      <td>Leeds</td>\n",
              "      <td>England</td>\n",
              "      <td>False</td>\n",
              "      <td>7</td>\n",
              "      <td>6</td>\n",
              "      <td>2018</td>\n",
              "      <td>12.0</td>\n",
              "      <td>ENG</td>\n",
              "      <td>1050.84</td>\n",
              "      <td>1040.0</td>\n",
              "      <td>1.0</td>\n",
              "      <td>476.42</td>\n",
              "      <td>476.42</td>\n",
              "      <td>593.51</td>\n",
              "      <td>296.75</td>\n",
              "      <td>580.49</td>\n",
              "      <td>174.15</td>\n",
              "      <td>517.60</td>\n",
              "      <td>103.52</td>\n",
              "      <td>UEFA</td>\n",
              "      <td>2018-06-07</td>\n",
              "      <td>2.0</td>\n",
              "      <td>0.0</td>\n",
              "      <td>Leeds</td>\n",
              "      <td>England</td>\n",
              "      <td>False</td>\n",
              "      <td>7.0</td>\n",
              "      <td>6.0</td>\n",
              "      <td>2018.0</td>\n",
              "      <td>23.0</td>\n",
              "      <td>CRC</td>\n",
              "      <td>884.04</td>\n",
              "      <td>858.0</td>\n",
              "      <td>2.0</td>\n",
              "      <td>410.90</td>\n",
              "      <td>410.90</td>\n",
              "      <td>480.58</td>\n",
              "      <td>240.29</td>\n",
              "      <td>332.44</td>\n",
              "      <td>99.73</td>\n",
              "      <td>665.55</td>\n",
              "      <td>133.11</td>\n",
              "      <td>CONCACAF</td>\n",
              "      <td>2018-06-07</td>\n",
              "    </tr>\n",
              "    <tr>\n",
              "      <th>953</th>\n",
              "      <td>2018-06-07</td>\n",
              "      <td>Uruguay</td>\n",
              "      <td>Uzbekistan</td>\n",
              "      <td>3</td>\n",
              "      <td>0</td>\n",
              "      <td>Friendly</td>\n",
              "      <td>Montevideo</td>\n",
              "      <td>Uruguay</td>\n",
              "      <td>False</td>\n",
              "      <td>7</td>\n",
              "      <td>6</td>\n",
              "      <td>2018</td>\n",
              "      <td>14.0</td>\n",
              "      <td>URU</td>\n",
              "      <td>1018.41</td>\n",
              "      <td>976.0</td>\n",
              "      <td>3.0</td>\n",
              "      <td>486.28</td>\n",
              "      <td>486.28</td>\n",
              "      <td>487.69</td>\n",
              "      <td>243.84</td>\n",
              "      <td>561.47</td>\n",
              "      <td>168.44</td>\n",
              "      <td>599.26</td>\n",
              "      <td>119.85</td>\n",
              "      <td>CONMEBOL</td>\n",
              "      <td>2018-06-07</td>\n",
              "      <td>3.0</td>\n",
              "      <td>0.0</td>\n",
              "      <td>Montevideo</td>\n",
              "      <td>Uruguay</td>\n",
              "      <td>False</td>\n",
              "      <td>7.0</td>\n",
              "      <td>6.0</td>\n",
              "      <td>2018.0</td>\n",
              "      <td>95.0</td>\n",
              "      <td>UZB</td>\n",
              "      <td>353.91</td>\n",
              "      <td>381.0</td>\n",
              "      <td>-7.0</td>\n",
              "      <td>66.85</td>\n",
              "      <td>66.85</td>\n",
              "      <td>305.61</td>\n",
              "      <td>152.80</td>\n",
              "      <td>311.74</td>\n",
              "      <td>93.52</td>\n",
              "      <td>203.71</td>\n",
              "      <td>40.74</td>\n",
              "      <td>AFC</td>\n",
              "      <td>2018-06-07</td>\n",
              "    </tr>\n",
              "    <tr>\n",
              "      <th>954</th>\n",
              "      <td>2018-06-07</td>\n",
              "      <td>Portugal</td>\n",
              "      <td>Algeria</td>\n",
              "      <td>3</td>\n",
              "      <td>0</td>\n",
              "      <td>Friendly</td>\n",
              "      <td>Lisbon</td>\n",
              "      <td>Portugal</td>\n",
              "      <td>False</td>\n",
              "      <td>7</td>\n",
              "      <td>6</td>\n",
              "      <td>2018</td>\n",
              "      <td>4.0</td>\n",
              "      <td>POR</td>\n",
              "      <td>1273.69</td>\n",
              "      <td>1306.0</td>\n",
              "      <td>0.0</td>\n",
              "      <td>646.92</td>\n",
              "      <td>646.92</td>\n",
              "      <td>691.82</td>\n",
              "      <td>345.91</td>\n",
              "      <td>517.77</td>\n",
              "      <td>155.33</td>\n",
              "      <td>627.63</td>\n",
              "      <td>125.53</td>\n",
              "      <td>UEFA</td>\n",
              "      <td>2018-06-07</td>\n",
              "      <td>3.0</td>\n",
              "      <td>0.0</td>\n",
              "      <td>Lisbon</td>\n",
              "      <td>Portugal</td>\n",
              "      <td>False</td>\n",
              "      <td>7.0</td>\n",
              "      <td>6.0</td>\n",
              "      <td>2018.0</td>\n",
              "      <td>66.0</td>\n",
              "      <td>ALG</td>\n",
              "      <td>473.83</td>\n",
              "      <td>499.0</td>\n",
              "      <td>-2.0</td>\n",
              "      <td>163.41</td>\n",
              "      <td>163.41</td>\n",
              "      <td>234.78</td>\n",
              "      <td>117.39</td>\n",
              "      <td>304.68</td>\n",
              "      <td>91.40</td>\n",
              "      <td>508.13</td>\n",
              "      <td>101.63</td>\n",
              "      <td>CAF</td>\n",
              "      <td>2018-06-07</td>\n",
              "    </tr>\n",
              "    <tr>\n",
              "      <th>955</th>\n",
              "      <td>2018-06-07</td>\n",
              "      <td>Iceland</td>\n",
              "      <td>Ghana</td>\n",
              "      <td>2</td>\n",
              "      <td>2</td>\n",
              "      <td>Friendly</td>\n",
              "      <td>Reykjavík</td>\n",
              "      <td>Iceland</td>\n",
              "      <td>False</td>\n",
              "      <td>7</td>\n",
              "      <td>6</td>\n",
              "      <td>2018</td>\n",
              "      <td>22.0</td>\n",
              "      <td>ISL</td>\n",
              "      <td>908.01</td>\n",
              "      <td>930.0</td>\n",
              "      <td>0.0</td>\n",
              "      <td>438.64</td>\n",
              "      <td>438.64</td>\n",
              "      <td>564.25</td>\n",
              "      <td>282.13</td>\n",
              "      <td>302.02</td>\n",
              "      <td>90.61</td>\n",
              "      <td>483.19</td>\n",
              "      <td>96.64</td>\n",
              "      <td>UEFA</td>\n",
              "      <td>2018-06-07</td>\n",
              "      <td>2.0</td>\n",
              "      <td>2.0</td>\n",
              "      <td>Reykjavík</td>\n",
              "      <td>Iceland</td>\n",
              "      <td>False</td>\n",
              "      <td>7.0</td>\n",
              "      <td>6.0</td>\n",
              "      <td>2018.0</td>\n",
              "      <td>47.0</td>\n",
              "      <td>GHA</td>\n",
              "      <td>623.69</td>\n",
              "      <td>603.0</td>\n",
              "      <td>3.0</td>\n",
              "      <td>261.21</td>\n",
              "      <td>261.21</td>\n",
              "      <td>339.92</td>\n",
              "      <td>169.96</td>\n",
              "      <td>332.99</td>\n",
              "      <td>99.90</td>\n",
              "      <td>463.15</td>\n",
              "      <td>92.63</td>\n",
              "      <td>CAF</td>\n",
              "      <td>2018-06-07</td>\n",
              "    </tr>\n",
              "    <tr>\n",
              "      <th>956</th>\n",
              "      <td>2018-06-07</td>\n",
              "      <td>India</td>\n",
              "      <td>New Zealand</td>\n",
              "      <td>1</td>\n",
              "      <td>2</td>\n",
              "      <td>Intercontinental Cup</td>\n",
              "      <td>Mumbai</td>\n",
              "      <td>India</td>\n",
              "      <td>False</td>\n",
              "      <td>7</td>\n",
              "      <td>6</td>\n",
              "      <td>2018</td>\n",
              "      <td>97.0</td>\n",
              "      <td>IND</td>\n",
              "      <td>349.92</td>\n",
              "      <td>354.0</td>\n",
              "      <td>0.0</td>\n",
              "      <td>196.24</td>\n",
              "      <td>196.24</td>\n",
              "      <td>222.36</td>\n",
              "      <td>111.18</td>\n",
              "      <td>85.00</td>\n",
              "      <td>25.50</td>\n",
              "      <td>85.00</td>\n",
              "      <td>17.00</td>\n",
              "      <td>AFC</td>\n",
              "      <td>2018-06-07</td>\n",
              "      <td>1.0</td>\n",
              "      <td>2.0</td>\n",
              "      <td>Mumbai</td>\n",
              "      <td>India</td>\n",
              "      <td>False</td>\n",
              "      <td>7.0</td>\n",
              "      <td>6.0</td>\n",
              "      <td>2018.0</td>\n",
              "      <td>120.0</td>\n",
              "      <td>NZL</td>\n",
              "      <td>255.78</td>\n",
              "      <td>229.0</td>\n",
              "      <td>13.0</td>\n",
              "      <td>78.58</td>\n",
              "      <td>78.58</td>\n",
              "      <td>193.89</td>\n",
              "      <td>96.95</td>\n",
              "      <td>254.83</td>\n",
              "      <td>76.45</td>\n",
              "      <td>19.04</td>\n",
              "      <td>3.81</td>\n",
              "      <td>OFC</td>\n",
              "      <td>2018-06-07</td>\n",
              "    </tr>\n",
              "  </tbody>\n",
              "</table>\n",
              "<p>957 rows × 50 columns</p>\n",
              "</div>"
            ],
            "text/plain": [
              "          date home_team  ... confederation_y  rank_date_y\n",
              "0   1993-08-08   Bolivia  ...        CONMEBOL   1993-08-08\n",
              "1   1993-08-08    Brazil  ...        CONCACAF   1993-08-08\n",
              "2   1993-08-08   Ecuador  ...        CONMEBOL   1993-08-08\n",
              "3   1993-08-08    Guinea  ...             CAF   1993-08-08\n",
              "4   1993-08-08  Paraguay  ...        CONMEBOL   1993-08-08\n",
              "..         ...       ...  ...             ...          ...\n",
              "952 2018-06-07   England  ...        CONCACAF   2018-06-07\n",
              "953 2018-06-07   Uruguay  ...             AFC   2018-06-07\n",
              "954 2018-06-07  Portugal  ...             CAF   2018-06-07\n",
              "955 2018-06-07   Iceland  ...             CAF   2018-06-07\n",
              "956 2018-06-07     India  ...             OFC   2018-06-07\n",
              "\n",
              "[957 rows x 50 columns]"
            ]
          },
          "metadata": {},
          "execution_count": 420
        }
      ]
    },
    {
      "cell_type": "markdown",
      "metadata": {
        "id": "0v-6m3t2J1u_"
      },
      "source": [
        "Check for null values"
      ]
    },
    {
      "cell_type": "code",
      "metadata": {
        "colab": {
          "base_uri": "https://localhost:8080/"
        },
        "id": "GiMufwyEJzMw",
        "outputId": "f24022f0-4dce-496a-8a18-bac3fdd03281"
      },
      "source": [
        "df_all.isnull().sum()"
      ],
      "execution_count": 421,
      "outputs": [
        {
          "output_type": "execute_result",
          "data": {
            "text/plain": [
              "date                          0\n",
              "home_team                     0\n",
              "away_team                     0\n",
              "home_score_x                  0\n",
              "away_score_x                  0\n",
              "tournament                    0\n",
              "city_x                        0\n",
              "country_x                     0\n",
              "neutral_x                     0\n",
              "day_x                         0\n",
              "month_x                       0\n",
              "year_x                        0\n",
              "rank_x                        0\n",
              "country_abrv_x                0\n",
              "total_points_x                0\n",
              "previous_points_x             0\n",
              "rank_change_x                 0\n",
              "cur_year_avg_x                0\n",
              "cur_year_avg_weighted_x       0\n",
              "last_year_avg_x               0\n",
              "last_year_avg_weighted_x      0\n",
              "two_year_ago_avg_x            0\n",
              "two_year_ago_weighted_x       0\n",
              "three_year_ago_avg_x          0\n",
              "three_year_ago_weighted_x     0\n",
              "confederation_x               0\n",
              "rank_date_x                   0\n",
              "home_score_y                 86\n",
              "away_score_y                 86\n",
              "city_y                       86\n",
              "country_y                    86\n",
              "neutral_y                    86\n",
              "day_y                        86\n",
              "month_y                      86\n",
              "year_y                       86\n",
              "rank_y                       86\n",
              "country_abrv_y               86\n",
              "total_points_y               86\n",
              "previous_points_y            86\n",
              "rank_change_y                86\n",
              "cur_year_avg_y               86\n",
              "cur_year_avg_weighted_y      86\n",
              "last_year_avg_y              86\n",
              "last_year_avg_weighted_y     86\n",
              "two_year_ago_avg_y           86\n",
              "two_year_ago_weighted_y      86\n",
              "three_year_ago_avg_y         86\n",
              "three_year_ago_weighted_y    86\n",
              "confederation_y              86\n",
              "rank_date_y                  86\n",
              "dtype: int64"
            ]
          },
          "metadata": {},
          "execution_count": 421
        }
      ]
    },
    {
      "cell_type": "code",
      "metadata": {
        "colab": {
          "base_uri": "https://localhost:8080/"
        },
        "id": "konoAceEKCwP",
        "outputId": "6923179c-f8e0-4f91-fa29-43630314b06b"
      },
      "source": [
        "#Dropping null values from the dataframe\n",
        "df_all = df_all.dropna()\n",
        "df_all.isnull().sum()"
      ],
      "execution_count": 422,
      "outputs": [
        {
          "output_type": "execute_result",
          "data": {
            "text/plain": [
              "date                         0\n",
              "home_team                    0\n",
              "away_team                    0\n",
              "home_score_x                 0\n",
              "away_score_x                 0\n",
              "tournament                   0\n",
              "city_x                       0\n",
              "country_x                    0\n",
              "neutral_x                    0\n",
              "day_x                        0\n",
              "month_x                      0\n",
              "year_x                       0\n",
              "rank_x                       0\n",
              "country_abrv_x               0\n",
              "total_points_x               0\n",
              "previous_points_x            0\n",
              "rank_change_x                0\n",
              "cur_year_avg_x               0\n",
              "cur_year_avg_weighted_x      0\n",
              "last_year_avg_x              0\n",
              "last_year_avg_weighted_x     0\n",
              "two_year_ago_avg_x           0\n",
              "two_year_ago_weighted_x      0\n",
              "three_year_ago_avg_x         0\n",
              "three_year_ago_weighted_x    0\n",
              "confederation_x              0\n",
              "rank_date_x                  0\n",
              "home_score_y                 0\n",
              "away_score_y                 0\n",
              "city_y                       0\n",
              "country_y                    0\n",
              "neutral_y                    0\n",
              "day_y                        0\n",
              "month_y                      0\n",
              "year_y                       0\n",
              "rank_y                       0\n",
              "country_abrv_y               0\n",
              "total_points_y               0\n",
              "previous_points_y            0\n",
              "rank_change_y                0\n",
              "cur_year_avg_y               0\n",
              "cur_year_avg_weighted_y      0\n",
              "last_year_avg_y              0\n",
              "last_year_avg_weighted_y     0\n",
              "two_year_ago_avg_y           0\n",
              "two_year_ago_weighted_y      0\n",
              "three_year_ago_avg_y         0\n",
              "three_year_ago_weighted_y    0\n",
              "confederation_y              0\n",
              "rank_date_y                  0\n",
              "dtype: int64"
            ]
          },
          "metadata": {},
          "execution_count": 422
        }
      ]
    },
    {
      "cell_type": "markdown",
      "metadata": {
        "id": "LrHZTYqpKknV"
      },
      "source": [
        "### Data Cleaning\n",
        "\n",
        "\n",
        "\n",
        "*   Drop irrelevant columns\n",
        "*   Rename columns\n",
        "*   Check for outliers and anomalies\n",
        "\n"
      ]
    },
    {
      "cell_type": "code",
      "metadata": {
        "colab": {
          "base_uri": "https://localhost:8080/",
          "height": 414
        },
        "id": "cF61OvVEKfvs",
        "outputId": "808ec3a7-e9c4-443a-9e78-eecfd5338aaf"
      },
      "source": [
        "#dropping irrelevant columns\n",
        "\n",
        "#create a list of columns needed\n",
        "cols = ['home_team','home_score_x','away_team','away_score_x','year_x','rank_x','rank_y','tournament']\n",
        "df_all = df_all.reindex(columns= cols)\n",
        "df_all"
      ],
      "execution_count": 423,
      "outputs": [
        {
          "output_type": "execute_result",
          "data": {
            "text/html": [
              "<div>\n",
              "<style scoped>\n",
              "    .dataframe tbody tr th:only-of-type {\n",
              "        vertical-align: middle;\n",
              "    }\n",
              "\n",
              "    .dataframe tbody tr th {\n",
              "        vertical-align: top;\n",
              "    }\n",
              "\n",
              "    .dataframe thead th {\n",
              "        text-align: right;\n",
              "    }\n",
              "</style>\n",
              "<table border=\"1\" class=\"dataframe\">\n",
              "  <thead>\n",
              "    <tr style=\"text-align: right;\">\n",
              "      <th></th>\n",
              "      <th>home_team</th>\n",
              "      <th>home_score_x</th>\n",
              "      <th>away_team</th>\n",
              "      <th>away_score_x</th>\n",
              "      <th>year_x</th>\n",
              "      <th>rank_x</th>\n",
              "      <th>rank_y</th>\n",
              "      <th>tournament</th>\n",
              "    </tr>\n",
              "  </thead>\n",
              "  <tbody>\n",
              "    <tr>\n",
              "      <th>0</th>\n",
              "      <td>Bolivia</td>\n",
              "      <td>3</td>\n",
              "      <td>Uruguay</td>\n",
              "      <td>1</td>\n",
              "      <td>1993</td>\n",
              "      <td>59.0</td>\n",
              "      <td>22.0</td>\n",
              "      <td>FIFA World Cup qualification</td>\n",
              "    </tr>\n",
              "    <tr>\n",
              "      <th>1</th>\n",
              "      <td>Brazil</td>\n",
              "      <td>1</td>\n",
              "      <td>Mexico</td>\n",
              "      <td>1</td>\n",
              "      <td>1993</td>\n",
              "      <td>8.0</td>\n",
              "      <td>14.0</td>\n",
              "      <td>Friendly</td>\n",
              "    </tr>\n",
              "    <tr>\n",
              "      <th>2</th>\n",
              "      <td>Ecuador</td>\n",
              "      <td>5</td>\n",
              "      <td>Venezuela</td>\n",
              "      <td>0</td>\n",
              "      <td>1993</td>\n",
              "      <td>35.0</td>\n",
              "      <td>94.0</td>\n",
              "      <td>FIFA World Cup qualification</td>\n",
              "    </tr>\n",
              "    <tr>\n",
              "      <th>3</th>\n",
              "      <td>Guinea</td>\n",
              "      <td>1</td>\n",
              "      <td>Sierra Leone</td>\n",
              "      <td>0</td>\n",
              "      <td>1993</td>\n",
              "      <td>65.0</td>\n",
              "      <td>86.0</td>\n",
              "      <td>Friendly</td>\n",
              "    </tr>\n",
              "    <tr>\n",
              "      <th>4</th>\n",
              "      <td>Paraguay</td>\n",
              "      <td>1</td>\n",
              "      <td>Argentina</td>\n",
              "      <td>3</td>\n",
              "      <td>1993</td>\n",
              "      <td>67.0</td>\n",
              "      <td>5.0</td>\n",
              "      <td>FIFA World Cup qualification</td>\n",
              "    </tr>\n",
              "    <tr>\n",
              "      <th>...</th>\n",
              "      <td>...</td>\n",
              "      <td>...</td>\n",
              "      <td>...</td>\n",
              "      <td>...</td>\n",
              "      <td>...</td>\n",
              "      <td>...</td>\n",
              "      <td>...</td>\n",
              "      <td>...</td>\n",
              "    </tr>\n",
              "    <tr>\n",
              "      <th>952</th>\n",
              "      <td>England</td>\n",
              "      <td>2</td>\n",
              "      <td>Costa Rica</td>\n",
              "      <td>0</td>\n",
              "      <td>2018</td>\n",
              "      <td>12.0</td>\n",
              "      <td>23.0</td>\n",
              "      <td>Friendly</td>\n",
              "    </tr>\n",
              "    <tr>\n",
              "      <th>953</th>\n",
              "      <td>Uruguay</td>\n",
              "      <td>3</td>\n",
              "      <td>Uzbekistan</td>\n",
              "      <td>0</td>\n",
              "      <td>2018</td>\n",
              "      <td>14.0</td>\n",
              "      <td>95.0</td>\n",
              "      <td>Friendly</td>\n",
              "    </tr>\n",
              "    <tr>\n",
              "      <th>954</th>\n",
              "      <td>Portugal</td>\n",
              "      <td>3</td>\n",
              "      <td>Algeria</td>\n",
              "      <td>0</td>\n",
              "      <td>2018</td>\n",
              "      <td>4.0</td>\n",
              "      <td>66.0</td>\n",
              "      <td>Friendly</td>\n",
              "    </tr>\n",
              "    <tr>\n",
              "      <th>955</th>\n",
              "      <td>Iceland</td>\n",
              "      <td>2</td>\n",
              "      <td>Ghana</td>\n",
              "      <td>2</td>\n",
              "      <td>2018</td>\n",
              "      <td>22.0</td>\n",
              "      <td>47.0</td>\n",
              "      <td>Friendly</td>\n",
              "    </tr>\n",
              "    <tr>\n",
              "      <th>956</th>\n",
              "      <td>India</td>\n",
              "      <td>1</td>\n",
              "      <td>New Zealand</td>\n",
              "      <td>2</td>\n",
              "      <td>2018</td>\n",
              "      <td>97.0</td>\n",
              "      <td>120.0</td>\n",
              "      <td>Intercontinental Cup</td>\n",
              "    </tr>\n",
              "  </tbody>\n",
              "</table>\n",
              "<p>871 rows × 8 columns</p>\n",
              "</div>"
            ],
            "text/plain": [
              "    home_team  home_score_x  ... rank_y                    tournament\n",
              "0     Bolivia             3  ...   22.0  FIFA World Cup qualification\n",
              "1      Brazil             1  ...   14.0                      Friendly\n",
              "2     Ecuador             5  ...   94.0  FIFA World Cup qualification\n",
              "3      Guinea             1  ...   86.0                      Friendly\n",
              "4    Paraguay             1  ...    5.0  FIFA World Cup qualification\n",
              "..        ...           ...  ...    ...                           ...\n",
              "952   England             2  ...   23.0                      Friendly\n",
              "953   Uruguay             3  ...   95.0                      Friendly\n",
              "954  Portugal             3  ...   66.0                      Friendly\n",
              "955   Iceland             2  ...   47.0                      Friendly\n",
              "956     India             1  ...  120.0          Intercontinental Cup\n",
              "\n",
              "[871 rows x 8 columns]"
            ]
          },
          "metadata": {},
          "execution_count": 423
        }
      ]
    },
    {
      "cell_type": "code",
      "metadata": {
        "colab": {
          "base_uri": "https://localhost:8080/",
          "height": 48
        },
        "id": "m5JhAFwGL3g6",
        "outputId": "db505f54-7807-47c2-804f-0b6df61f4ddd"
      },
      "source": [
        "#Rename our columns\n",
        "df_all = df_all.rename(columns={'home_score_x' : 'home_team_score','away_score_x' : 'away_team_score','year_x' : 'year','rank_x' : 'home_team_rank','rank_y' : 'away_team_rank'})\n",
        "#check column names\n",
        "df_all.head(0)"
      ],
      "execution_count": 424,
      "outputs": [
        {
          "output_type": "execute_result",
          "data": {
            "text/html": [
              "<div>\n",
              "<style scoped>\n",
              "    .dataframe tbody tr th:only-of-type {\n",
              "        vertical-align: middle;\n",
              "    }\n",
              "\n",
              "    .dataframe tbody tr th {\n",
              "        vertical-align: top;\n",
              "    }\n",
              "\n",
              "    .dataframe thead th {\n",
              "        text-align: right;\n",
              "    }\n",
              "</style>\n",
              "<table border=\"1\" class=\"dataframe\">\n",
              "  <thead>\n",
              "    <tr style=\"text-align: right;\">\n",
              "      <th></th>\n",
              "      <th>home_team</th>\n",
              "      <th>home_team_score</th>\n",
              "      <th>away_team</th>\n",
              "      <th>away_team_score</th>\n",
              "      <th>year</th>\n",
              "      <th>home_team_rank</th>\n",
              "      <th>away_team_rank</th>\n",
              "      <th>tournament</th>\n",
              "    </tr>\n",
              "  </thead>\n",
              "  <tbody>\n",
              "  </tbody>\n",
              "</table>\n",
              "</div>"
            ],
            "text/plain": [
              "Empty DataFrame\n",
              "Columns: [home_team, home_team_score, away_team, away_team_score, year, home_team_rank, away_team_rank, tournament]\n",
              "Index: []"
            ]
          },
          "metadata": {},
          "execution_count": 424
        }
      ]
    },
    {
      "cell_type": "code",
      "metadata": {
        "colab": {
          "base_uri": "https://localhost:8080/"
        },
        "id": "J0WEUG1tMgZq",
        "outputId": "ddfea95c-4525-47c4-cb02-a939c85125d2"
      },
      "source": [
        "df_all.shape"
      ],
      "execution_count": 425,
      "outputs": [
        {
          "output_type": "execute_result",
          "data": {
            "text/plain": [
              "(871, 8)"
            ]
          },
          "metadata": {},
          "execution_count": 425
        }
      ]
    },
    {
      "cell_type": "markdown",
      "metadata": {
        "id": "vTjj_L0qMysF"
      },
      "source": [
        "Outliers and Anomalies"
      ]
    },
    {
      "cell_type": "code",
      "metadata": {
        "colab": {
          "base_uri": "https://localhost:8080/",
          "height": 1000
        },
        "id": "k7-AP4ZEM1j_",
        "outputId": "47b6a7db-1493-468b-8dca-0440d5d374a3"
      },
      "source": [
        "#Check for outliers and anomalies in our data\n",
        "\n",
        "col_names = ['home_team_score','away_team_score','year','home_team_rank','away_team_rank']\n",
        "\n",
        "fig, ax = plt.subplots(len(col_names), figsize = (15,30))\n",
        "\n",
        "for i, col_val in enumerate(col_names):\n",
        "\n",
        "  sns.boxplot(x = df_all[col_val], ax=ax[i])\n",
        "  ax[i].set_title('A boxplot on the {} column'.format(col_val), fontsize=14)\n",
        "  ax[i].set_xlabel(col_val, fontsize=12)"
      ],
      "execution_count": 426,
      "outputs": [
        {
          "output_type": "display_data",
          "data": {
            "image/png": "[encoded data removed]",
            "text/plain": [
              "<Figure size 1080x2160 with 5 Axes>"
            ]
          },
          "metadata": {
            "needs_background": "light"
          }
        }
      ]
    },
    {
      "cell_type": "code",
      "metadata": {
        "colab": {
          "base_uri": "https://localhost:8080/",
          "height": 414
        },
        "id": "qVCE34dkQiPd",
        "outputId": "8d9d273d-0c13-485e-e04c-0d4b333076c9"
      },
      "source": [
        "# Add a column to show teams that wom, lost or drew\n",
        "df_all.loc[df_all['home_team_score'] > df_all['away_team_score'], 'game_results'] = 'Win'\n",
        "df_all.loc[df_all['home_team_score'] < df_all['away_team_score'], 'game_results'] = 'Lose'\n",
        "df_all.loc[df_all['home_team_score'] == df_all['away_team_score'], 'game_results'] = 'Draw'\n",
        "\n",
        "#Add a column to show the total score of golas scored\n",
        "df_all['total_scores'] = df['home_team_score'] + df_all['away_team_score']\n",
        "df_all"
      ],
      "execution_count": 427,
      "outputs": [
        {
          "output_type": "execute_result",
          "data": {
            "text/html": [
              "<div>\n",
              "<style scoped>\n",
              "    .dataframe tbody tr th:only-of-type {\n",
              "        vertical-align: middle;\n",
              "    }\n",
              "\n",
              "    .dataframe tbody tr th {\n",
              "        vertical-align: top;\n",
              "    }\n",
              "\n",
              "    .dataframe thead th {\n",
              "        text-align: right;\n",
              "    }\n",
              "</style>\n",
              "<table border=\"1\" class=\"dataframe\">\n",
              "  <thead>\n",
              "    <tr style=\"text-align: right;\">\n",
              "      <th></th>\n",
              "      <th>home_team</th>\n",
              "      <th>home_team_score</th>\n",
              "      <th>away_team</th>\n",
              "      <th>away_team_score</th>\n",
              "      <th>year</th>\n",
              "      <th>home_team_rank</th>\n",
              "      <th>away_team_rank</th>\n",
              "      <th>tournament</th>\n",
              "      <th>game_results</th>\n",
              "      <th>total_scores</th>\n",
              "    </tr>\n",
              "  </thead>\n",
              "  <tbody>\n",
              "    <tr>\n",
              "      <th>0</th>\n",
              "      <td>Bolivia</td>\n",
              "      <td>3</td>\n",
              "      <td>Uruguay</td>\n",
              "      <td>1</td>\n",
              "      <td>1993</td>\n",
              "      <td>59.0</td>\n",
              "      <td>22.0</td>\n",
              "      <td>FIFA World Cup qualification</td>\n",
              "      <td>Win</td>\n",
              "      <td>4</td>\n",
              "    </tr>\n",
              "    <tr>\n",
              "      <th>1</th>\n",
              "      <td>Brazil</td>\n",
              "      <td>1</td>\n",
              "      <td>Mexico</td>\n",
              "      <td>1</td>\n",
              "      <td>1993</td>\n",
              "      <td>8.0</td>\n",
              "      <td>14.0</td>\n",
              "      <td>Friendly</td>\n",
              "      <td>Draw</td>\n",
              "      <td>2</td>\n",
              "    </tr>\n",
              "    <tr>\n",
              "      <th>2</th>\n",
              "      <td>Ecuador</td>\n",
              "      <td>5</td>\n",
              "      <td>Venezuela</td>\n",
              "      <td>0</td>\n",
              "      <td>1993</td>\n",
              "      <td>35.0</td>\n",
              "      <td>94.0</td>\n",
              "      <td>FIFA World Cup qualification</td>\n",
              "      <td>Win</td>\n",
              "      <td>5</td>\n",
              "    </tr>\n",
              "    <tr>\n",
              "      <th>3</th>\n",
              "      <td>Guinea</td>\n",
              "      <td>1</td>\n",
              "      <td>Sierra Leone</td>\n",
              "      <td>0</td>\n",
              "      <td>1993</td>\n",
              "      <td>65.0</td>\n",
              "      <td>86.0</td>\n",
              "      <td>Friendly</td>\n",
              "      <td>Win</td>\n",
              "      <td>1</td>\n",
              "    </tr>\n",
              "    <tr>\n",
              "      <th>4</th>\n",
              "      <td>Paraguay</td>\n",
              "      <td>1</td>\n",
              "      <td>Argentina</td>\n",
              "      <td>3</td>\n",
              "      <td>1993</td>\n",
              "      <td>67.0</td>\n",
              "      <td>5.0</td>\n",
              "      <td>FIFA World Cup qualification</td>\n",
              "      <td>Lose</td>\n",
              "      <td>4</td>\n",
              "    </tr>\n",
              "    <tr>\n",
              "      <th>...</th>\n",
              "      <td>...</td>\n",
              "      <td>...</td>\n",
              "      <td>...</td>\n",
              "      <td>...</td>\n",
              "      <td>...</td>\n",
              "      <td>...</td>\n",
              "      <td>...</td>\n",
              "      <td>...</td>\n",
              "      <td>...</td>\n",
              "      <td>...</td>\n",
              "    </tr>\n",
              "    <tr>\n",
              "      <th>952</th>\n",
              "      <td>England</td>\n",
              "      <td>2</td>\n",
              "      <td>Costa Rica</td>\n",
              "      <td>0</td>\n",
              "      <td>2018</td>\n",
              "      <td>12.0</td>\n",
              "      <td>23.0</td>\n",
              "      <td>Friendly</td>\n",
              "      <td>Win</td>\n",
              "      <td>2</td>\n",
              "    </tr>\n",
              "    <tr>\n",
              "      <th>953</th>\n",
              "      <td>Uruguay</td>\n",
              "      <td>3</td>\n",
              "      <td>Uzbekistan</td>\n",
              "      <td>0</td>\n",
              "      <td>2018</td>\n",
              "      <td>14.0</td>\n",
              "      <td>95.0</td>\n",
              "      <td>Friendly</td>\n",
              "      <td>Win</td>\n",
              "      <td>3</td>\n",
              "    </tr>\n",
              "    <tr>\n",
              "      <th>954</th>\n",
              "      <td>Portugal</td>\n",
              "      <td>3</td>\n",
              "      <td>Algeria</td>\n",
              "      <td>0</td>\n",
              "      <td>2018</td>\n",
              "      <td>4.0</td>\n",
              "      <td>66.0</td>\n",
              "      <td>Friendly</td>\n",
              "      <td>Win</td>\n",
              "      <td>3</td>\n",
              "    </tr>\n",
              "    <tr>\n",
              "      <th>955</th>\n",
              "      <td>Iceland</td>\n",
              "      <td>2</td>\n",
              "      <td>Ghana</td>\n",
              "      <td>2</td>\n",
              "      <td>2018</td>\n",
              "      <td>22.0</td>\n",
              "      <td>47.0</td>\n",
              "      <td>Friendly</td>\n",
              "      <td>Draw</td>\n",
              "      <td>4</td>\n",
              "    </tr>\n",
              "    <tr>\n",
              "      <th>956</th>\n",
              "      <td>India</td>\n",
              "      <td>1</td>\n",
              "      <td>New Zealand</td>\n",
              "      <td>2</td>\n",
              "      <td>2018</td>\n",
              "      <td>97.0</td>\n",
              "      <td>120.0</td>\n",
              "      <td>Intercontinental Cup</td>\n",
              "      <td>Lose</td>\n",
              "      <td>3</td>\n",
              "    </tr>\n",
              "  </tbody>\n",
              "</table>\n",
              "<p>871 rows × 10 columns</p>\n",
              "</div>"
            ],
            "text/plain": [
              "    home_team  home_team_score  ... game_results  total_scores\n",
              "0     Bolivia                3  ...          Win             4\n",
              "1      Brazil                1  ...         Draw             2\n",
              "2     Ecuador                5  ...          Win             5\n",
              "3      Guinea                1  ...          Win             1\n",
              "4    Paraguay                1  ...         Lose             4\n",
              "..        ...              ...  ...          ...           ...\n",
              "952   England                2  ...          Win             2\n",
              "953   Uruguay                3  ...          Win             3\n",
              "954  Portugal                3  ...          Win             3\n",
              "955   Iceland                2  ...         Draw             4\n",
              "956     India                1  ...         Lose             3\n",
              "\n",
              "[871 rows x 10 columns]"
            ]
          },
          "metadata": {},
          "execution_count": 427
        }
      ]
    },
    {
      "cell_type": "code",
      "metadata": {
        "colab": {
          "base_uri": "https://localhost:8080/"
        },
        "id": "68XOZnZFX5dq",
        "outputId": "9de1b0ec-2b41-4f25-ce24-fb4d190eb878"
      },
      "source": [
        "df_all.nunique()"
      ],
      "execution_count": 428,
      "outputs": [
        {
          "output_type": "execute_result",
          "data": {
            "text/plain": [
              "home_team          160\n",
              "home_team_score     14\n",
              "away_team          159\n",
              "away_team_score      9\n",
              "year                26\n",
              "home_team_rank     181\n",
              "away_team_rank     188\n",
              "tournament          38\n",
              "game_results         3\n",
              "total_scores        14\n",
              "dtype: int64"
            ]
          },
          "metadata": {},
          "execution_count": 428
        }
      ]
    },
    {
      "cell_type": "markdown",
      "metadata": {
        "id": "2S6OW7yRSGft"
      },
      "source": [
        "# Exploratory Data Analysis"
      ]
    },
    {
      "cell_type": "markdown",
      "metadata": {
        "id": "kVj8MahASLwx"
      },
      "source": [
        "### a. Univariate analysis"
      ]
    },
    {
      "cell_type": "code",
      "metadata": {
        "colab": {
          "base_uri": "https://localhost:8080/",
          "height": 294
        },
        "id": "e0-DxeS5Qh_2",
        "outputId": "17a69438-e6d8-4fbf-da59-aff286c452de"
      },
      "source": [
        "# Summary analysis\n",
        "df_all.describe()"
      ],
      "execution_count": 429,
      "outputs": [
        {
          "output_type": "execute_result",
          "data": {
            "text/html": [
              "<div>\n",
              "<style scoped>\n",
              "    .dataframe tbody tr th:only-of-type {\n",
              "        vertical-align: middle;\n",
              "    }\n",
              "\n",
              "    .dataframe tbody tr th {\n",
              "        vertical-align: top;\n",
              "    }\n",
              "\n",
              "    .dataframe thead th {\n",
              "        text-align: right;\n",
              "    }\n",
              "</style>\n",
              "<table border=\"1\" class=\"dataframe\">\n",
              "  <thead>\n",
              "    <tr style=\"text-align: right;\">\n",
              "      <th></th>\n",
              "      <th>home_team_score</th>\n",
              "      <th>away_team_score</th>\n",
              "      <th>year</th>\n",
              "      <th>home_team_rank</th>\n",
              "      <th>away_team_rank</th>\n",
              "      <th>total_scores</th>\n",
              "    </tr>\n",
              "  </thead>\n",
              "  <tbody>\n",
              "    <tr>\n",
              "      <th>count</th>\n",
              "      <td>871.000000</td>\n",
              "      <td>871.000000</td>\n",
              "      <td>871.000000</td>\n",
              "      <td>871.000000</td>\n",
              "      <td>871.000000</td>\n",
              "      <td>871.000000</td>\n",
              "    </tr>\n",
              "    <tr>\n",
              "      <th>mean</th>\n",
              "      <td>1.632606</td>\n",
              "      <td>1.004592</td>\n",
              "      <td>2004.789897</td>\n",
              "      <td>65.549943</td>\n",
              "      <td>69.918485</td>\n",
              "      <td>2.637199</td>\n",
              "    </tr>\n",
              "    <tr>\n",
              "      <th>std</th>\n",
              "      <td>1.905960</td>\n",
              "      <td>1.154691</td>\n",
              "      <td>5.405888</td>\n",
              "      <td>47.557993</td>\n",
              "      <td>50.497652</td>\n",
              "      <td>2.093601</td>\n",
              "    </tr>\n",
              "    <tr>\n",
              "      <th>min</th>\n",
              "      <td>0.000000</td>\n",
              "      <td>0.000000</td>\n",
              "      <td>1993.000000</td>\n",
              "      <td>1.000000</td>\n",
              "      <td>1.000000</td>\n",
              "      <td>0.000000</td>\n",
              "    </tr>\n",
              "    <tr>\n",
              "      <th>25%</th>\n",
              "      <td>0.000000</td>\n",
              "      <td>0.000000</td>\n",
              "      <td>2000.000000</td>\n",
              "      <td>27.000000</td>\n",
              "      <td>28.000000</td>\n",
              "      <td>1.000000</td>\n",
              "    </tr>\n",
              "    <tr>\n",
              "      <th>50%</th>\n",
              "      <td>1.000000</td>\n",
              "      <td>1.000000</td>\n",
              "      <td>2005.000000</td>\n",
              "      <td>58.000000</td>\n",
              "      <td>61.000000</td>\n",
              "      <td>2.000000</td>\n",
              "    </tr>\n",
              "    <tr>\n",
              "      <th>75%</th>\n",
              "      <td>2.000000</td>\n",
              "      <td>2.000000</td>\n",
              "      <td>2010.000000</td>\n",
              "      <td>95.000000</td>\n",
              "      <td>102.500000</td>\n",
              "      <td>4.000000</td>\n",
              "    </tr>\n",
              "    <tr>\n",
              "      <th>max</th>\n",
              "      <td>31.000000</td>\n",
              "      <td>9.000000</td>\n",
              "      <td>2018.000000</td>\n",
              "      <td>206.000000</td>\n",
              "      <td>209.000000</td>\n",
              "      <td>31.000000</td>\n",
              "    </tr>\n",
              "  </tbody>\n",
              "</table>\n",
              "</div>"
            ],
            "text/plain": [
              "       home_team_score  away_team_score  ...  away_team_rank  total_scores\n",
              "count       871.000000       871.000000  ...      871.000000    871.000000\n",
              "mean          1.632606         1.004592  ...       69.918485      2.637199\n",
              "std           1.905960         1.154691  ...       50.497652      2.093601\n",
              "min           0.000000         0.000000  ...        1.000000      0.000000\n",
              "25%           0.000000         0.000000  ...       28.000000      1.000000\n",
              "50%           1.000000         1.000000  ...       61.000000      2.000000\n",
              "75%           2.000000         2.000000  ...      102.500000      4.000000\n",
              "max          31.000000         9.000000  ...      209.000000     31.000000\n",
              "\n",
              "[8 rows x 6 columns]"
            ]
          },
          "metadata": {},
          "execution_count": 429
        }
      ]
    },
    {
      "cell_type": "markdown",
      "metadata": {
        "id": "XWumSMRqSfDV"
      },
      "source": [
        "Measure of Central Tendancy"
      ]
    },
    {
      "cell_type": "code",
      "metadata": {
        "colab": {
          "base_uri": "https://localhost:8080/"
        },
        "id": "Uu8IcYQMSeyG",
        "outputId": "2f254c94-985a-4c86-8c92-36dfe3248121"
      },
      "source": [
        "df_all_uni = df_all[['home_team_score',\t'away_team_score',\t'year',\t'home_team_rank',\t'away_team_rank',\t'total_scores']]\n",
        "df_all_uni_mean=df_all_uni.mean()\n",
        "print(\"Mean:\\n\",df_all_uni_mean)\n",
        "print(\"******************************\")\n",
        "df_all_uni_median=df_all_uni.median()\n",
        "print('median:\\n',df_all_uni_median)"
      ],
      "execution_count": 430,
      "outputs": [
        {
          "output_type": "stream",
          "name": "stdout",
          "text": [
            "Mean:\n",
            " home_team_score       1.632606\n",
            "away_team_score       1.004592\n",
            "year               2004.789897\n",
            "home_team_rank       65.549943\n",
            "away_team_rank       69.918485\n",
            "total_scores          2.637199\n",
            "dtype: float64\n",
            "******************************\n",
            "median:\n",
            " home_team_score       1.0\n",
            "away_team_score       1.0\n",
            "year               2005.0\n",
            "home_team_rank       58.0\n",
            "away_team_rank       61.0\n",
            "total_scores          2.0\n",
            "dtype: float64\n"
          ]
        }
      ]
    },
    {
      "cell_type": "markdown",
      "metadata": {
        "id": "J-lxyn9sTh4U"
      },
      "source": [
        "Measure of Dispersion"
      ]
    },
    {
      "cell_type": "code",
      "metadata": {
        "colab": {
          "base_uri": "https://localhost:8080/"
        },
        "id": "TwX707eASerf",
        "outputId": "576acea5-cf83-41c2-ac82-add0f464b874"
      },
      "source": [
        "print('standard deviations:\\n', df_all_uni.std())\n",
        "print(\"******************************\")\n",
        "print('variance:\\n', df_all_uni.var())"
      ],
      "execution_count": 431,
      "outputs": [
        {
          "output_type": "stream",
          "name": "stdout",
          "text": [
            "standard deviations:\n",
            " home_team_score     1.905960\n",
            "away_team_score     1.154691\n",
            "year                5.405888\n",
            "home_team_rank     47.557993\n",
            "away_team_rank     50.497652\n",
            "total_scores        2.093601\n",
            "dtype: float64\n",
            "******************************\n",
            "variance:\n",
            " home_team_score       3.632683\n",
            "away_team_score       1.333312\n",
            "year                 29.223622\n",
            "home_team_rank     2261.762733\n",
            "away_team_rank     2550.012888\n",
            "total_scores          4.383166\n",
            "dtype: float64\n"
          ]
        }
      ]
    },
    {
      "cell_type": "markdown",
      "metadata": {
        "id": "MYvahwECUH4S"
      },
      "source": [
        "bar graph"
      ]
    },
    {
      "cell_type": "code",
      "metadata": {
        "colab": {
          "base_uri": "https://localhost:8080/",
          "height": 468
        },
        "id": "ii0aoPjTQh8-",
        "outputId": "a5fdc60b-b85b-41f6-de42-836004ae8dfa"
      },
      "source": [
        "#bar plot showing tornament types\n",
        "df_all.tournament.value_counts().head(10).plot.bar(color=\"mediumseagreen\")\n",
        "plt.title('Tournament Type')\n",
        "plt.xticks(rotation=80)"
      ],
      "execution_count": 432,
      "outputs": [
        {
          "output_type": "execute_result",
          "data": {
            "text/plain": [
              "(array([0, 1, 2, 3, 4, 5, 6, 7, 8, 9]),\n",
              " <a list of 10 Text major ticklabel objects>)"
            ]
          },
          "metadata": {},
          "execution_count": 432
        },
        {
          "output_type": "display_data",
          "data": {
            "image/png": "[encoded data removed]",
            "text/plain": [
              "<Figure size 432x288 with 1 Axes>"
            ]
          },
          "metadata": {
            "needs_background": "light"
          }
        }
      ]
    },
    {
      "cell_type": "code",
      "metadata": {
        "colab": {
          "base_uri": "https://localhost:8080/",
          "height": 414
        },
        "id": "HXMeKKzZZfvY",
        "outputId": "4b0afd79-86fd-4a21-d72d-71ab5b355696"
      },
      "source": [
        "df_all"
      ],
      "execution_count": 433,
      "outputs": [
        {
          "output_type": "execute_result",
          "data": {
            "text/html": [
              "<div>\n",
              "<style scoped>\n",
              "    .dataframe tbody tr th:only-of-type {\n",
              "        vertical-align: middle;\n",
              "    }\n",
              "\n",
              "    .dataframe tbody tr th {\n",
              "        vertical-align: top;\n",
              "    }\n",
              "\n",
              "    .dataframe thead th {\n",
              "        text-align: right;\n",
              "    }\n",
              "</style>\n",
              "<table border=\"1\" class=\"dataframe\">\n",
              "  <thead>\n",
              "    <tr style=\"text-align: right;\">\n",
              "      <th></th>\n",
              "      <th>home_team</th>\n",
              "      <th>home_team_score</th>\n",
              "      <th>away_team</th>\n",
              "      <th>away_team_score</th>\n",
              "      <th>year</th>\n",
              "      <th>home_team_rank</th>\n",
              "      <th>away_team_rank</th>\n",
              "      <th>tournament</th>\n",
              "      <th>game_results</th>\n",
              "      <th>total_scores</th>\n",
              "    </tr>\n",
              "  </thead>\n",
              "  <tbody>\n",
              "    <tr>\n",
              "      <th>0</th>\n",
              "      <td>Bolivia</td>\n",
              "      <td>3</td>\n",
              "      <td>Uruguay</td>\n",
              "      <td>1</td>\n",
              "      <td>1993</td>\n",
              "      <td>59.0</td>\n",
              "      <td>22.0</td>\n",
              "      <td>FIFA World Cup qualification</td>\n",
              "      <td>Win</td>\n",
              "      <td>4</td>\n",
              "    </tr>\n",
              "    <tr>\n",
              "      <th>1</th>\n",
              "      <td>Brazil</td>\n",
              "      <td>1</td>\n",
              "      <td>Mexico</td>\n",
              "      <td>1</td>\n",
              "      <td>1993</td>\n",
              "      <td>8.0</td>\n",
              "      <td>14.0</td>\n",
              "      <td>Friendly</td>\n",
              "      <td>Draw</td>\n",
              "      <td>2</td>\n",
              "    </tr>\n",
              "    <tr>\n",
              "      <th>2</th>\n",
              "      <td>Ecuador</td>\n",
              "      <td>5</td>\n",
              "      <td>Venezuela</td>\n",
              "      <td>0</td>\n",
              "      <td>1993</td>\n",
              "      <td>35.0</td>\n",
              "      <td>94.0</td>\n",
              "      <td>FIFA World Cup qualification</td>\n",
              "      <td>Win</td>\n",
              "      <td>5</td>\n",
              "    </tr>\n",
              "    <tr>\n",
              "      <th>3</th>\n",
              "      <td>Guinea</td>\n",
              "      <td>1</td>\n",
              "      <td>Sierra Leone</td>\n",
              "      <td>0</td>\n",
              "      <td>1993</td>\n",
              "      <td>65.0</td>\n",
              "      <td>86.0</td>\n",
              "      <td>Friendly</td>\n",
              "      <td>Win</td>\n",
              "      <td>1</td>\n",
              "    </tr>\n",
              "    <tr>\n",
              "      <th>4</th>\n",
              "      <td>Paraguay</td>\n",
              "      <td>1</td>\n",
              "      <td>Argentina</td>\n",
              "      <td>3</td>\n",
              "      <td>1993</td>\n",
              "      <td>67.0</td>\n",
              "      <td>5.0</td>\n",
              "      <td>FIFA World Cup qualification</td>\n",
              "      <td>Lose</td>\n",
              "      <td>4</td>\n",
              "    </tr>\n",
              "    <tr>\n",
              "      <th>...</th>\n",
              "      <td>...</td>\n",
              "      <td>...</td>\n",
              "      <td>...</td>\n",
              "      <td>...</td>\n",
              "      <td>...</td>\n",
              "      <td>...</td>\n",
              "      <td>...</td>\n",
              "      <td>...</td>\n",
              "      <td>...</td>\n",
              "      <td>...</td>\n",
              "    </tr>\n",
              "    <tr>\n",
              "      <th>952</th>\n",
              "      <td>England</td>\n",
              "      <td>2</td>\n",
              "      <td>Costa Rica</td>\n",
              "      <td>0</td>\n",
              "      <td>2018</td>\n",
              "      <td>12.0</td>\n",
              "      <td>23.0</td>\n",
              "      <td>Friendly</td>\n",
              "      <td>Win</td>\n",
              "      <td>2</td>\n",
              "    </tr>\n",
              "    <tr>\n",
              "      <th>953</th>\n",
              "      <td>Uruguay</td>\n",
              "      <td>3</td>\n",
              "      <td>Uzbekistan</td>\n",
              "      <td>0</td>\n",
              "      <td>2018</td>\n",
              "      <td>14.0</td>\n",
              "      <td>95.0</td>\n",
              "      <td>Friendly</td>\n",
              "      <td>Win</td>\n",
              "      <td>3</td>\n",
              "    </tr>\n",
              "    <tr>\n",
              "      <th>954</th>\n",
              "      <td>Portugal</td>\n",
              "      <td>3</td>\n",
              "      <td>Algeria</td>\n",
              "      <td>0</td>\n",
              "      <td>2018</td>\n",
              "      <td>4.0</td>\n",
              "      <td>66.0</td>\n",
              "      <td>Friendly</td>\n",
              "      <td>Win</td>\n",
              "      <td>3</td>\n",
              "    </tr>\n",
              "    <tr>\n",
              "      <th>955</th>\n",
              "      <td>Iceland</td>\n",
              "      <td>2</td>\n",
              "      <td>Ghana</td>\n",
              "      <td>2</td>\n",
              "      <td>2018</td>\n",
              "      <td>22.0</td>\n",
              "      <td>47.0</td>\n",
              "      <td>Friendly</td>\n",
              "      <td>Draw</td>\n",
              "      <td>4</td>\n",
              "    </tr>\n",
              "    <tr>\n",
              "      <th>956</th>\n",
              "      <td>India</td>\n",
              "      <td>1</td>\n",
              "      <td>New Zealand</td>\n",
              "      <td>2</td>\n",
              "      <td>2018</td>\n",
              "      <td>97.0</td>\n",
              "      <td>120.0</td>\n",
              "      <td>Intercontinental Cup</td>\n",
              "      <td>Lose</td>\n",
              "      <td>3</td>\n",
              "    </tr>\n",
              "  </tbody>\n",
              "</table>\n",
              "<p>871 rows × 10 columns</p>\n",
              "</div>"
            ],
            "text/plain": [
              "    home_team  home_team_score  ... game_results  total_scores\n",
              "0     Bolivia                3  ...          Win             4\n",
              "1      Brazil                1  ...         Draw             2\n",
              "2     Ecuador                5  ...          Win             5\n",
              "3      Guinea                1  ...          Win             1\n",
              "4    Paraguay                1  ...         Lose             4\n",
              "..        ...              ...  ...          ...           ...\n",
              "952   England                2  ...          Win             2\n",
              "953   Uruguay                3  ...          Win             3\n",
              "954  Portugal                3  ...          Win             3\n",
              "955   Iceland                2  ...         Draw             4\n",
              "956     India                1  ...         Lose             3\n",
              "\n",
              "[871 rows x 10 columns]"
            ]
          },
          "metadata": {},
          "execution_count": 433
        }
      ]
    },
    {
      "cell_type": "markdown",
      "metadata": {
        "id": "MxeDBswmUz2b"
      },
      "source": [
        "### b. Bivariate Analysis"
      ]
    },
    {
      "cell_type": "markdown",
      "metadata": {
        "id": "HCxothyGWAwc"
      },
      "source": [
        "Correlations"
      ]
    },
    {
      "cell_type": "code",
      "metadata": {
        "colab": {
          "base_uri": "https://localhost:8080/",
          "height": 232
        },
        "id": "5CS83trrUwev",
        "outputId": "f3a3eed7-b60f-4dfa-854c-f108296093f5"
      },
      "source": [
        "#Check for correlations\n",
        "correlation = df_all.corr()\n",
        "correlation"
      ],
      "execution_count": 434,
      "outputs": [
        {
          "output_type": "execute_result",
          "data": {
            "text/html": [
              "<div>\n",
              "<style scoped>\n",
              "    .dataframe tbody tr th:only-of-type {\n",
              "        vertical-align: middle;\n",
              "    }\n",
              "\n",
              "    .dataframe tbody tr th {\n",
              "        vertical-align: top;\n",
              "    }\n",
              "\n",
              "    .dataframe thead th {\n",
              "        text-align: right;\n",
              "    }\n",
              "</style>\n",
              "<table border=\"1\" class=\"dataframe\">\n",
              "  <thead>\n",
              "    <tr style=\"text-align: right;\">\n",
              "      <th></th>\n",
              "      <th>home_team_score</th>\n",
              "      <th>away_team_score</th>\n",
              "      <th>year</th>\n",
              "      <th>home_team_rank</th>\n",
              "      <th>away_team_rank</th>\n",
              "      <th>total_scores</th>\n",
              "    </tr>\n",
              "  </thead>\n",
              "  <tbody>\n",
              "    <tr>\n",
              "      <th>home_team_score</th>\n",
              "      <td>1.000000</td>\n",
              "      <td>-0.132413</td>\n",
              "      <td>-0.008058</td>\n",
              "      <td>-0.043381</td>\n",
              "      <td>0.309322</td>\n",
              "      <td>0.837344</td>\n",
              "    </tr>\n",
              "    <tr>\n",
              "      <th>away_team_score</th>\n",
              "      <td>-0.132413</td>\n",
              "      <td>1.000000</td>\n",
              "      <td>-0.044407</td>\n",
              "      <td>0.143060</td>\n",
              "      <td>-0.151524</td>\n",
              "      <td>0.430988</td>\n",
              "    </tr>\n",
              "    <tr>\n",
              "      <th>year</th>\n",
              "      <td>-0.008058</td>\n",
              "      <td>-0.044407</td>\n",
              "      <td>1.000000</td>\n",
              "      <td>0.212261</td>\n",
              "      <td>0.268029</td>\n",
              "      <td>-0.031828</td>\n",
              "    </tr>\n",
              "    <tr>\n",
              "      <th>home_team_rank</th>\n",
              "      <td>-0.043381</td>\n",
              "      <td>0.143060</td>\n",
              "      <td>0.212261</td>\n",
              "      <td>1.000000</td>\n",
              "      <td>0.534618</td>\n",
              "      <td>0.039409</td>\n",
              "    </tr>\n",
              "    <tr>\n",
              "      <th>away_team_rank</th>\n",
              "      <td>0.309322</td>\n",
              "      <td>-0.151524</td>\n",
              "      <td>0.268029</td>\n",
              "      <td>0.534618</td>\n",
              "      <td>1.000000</td>\n",
              "      <td>0.198028</td>\n",
              "    </tr>\n",
              "    <tr>\n",
              "      <th>total_scores</th>\n",
              "      <td>0.837344</td>\n",
              "      <td>0.430988</td>\n",
              "      <td>-0.031828</td>\n",
              "      <td>0.039409</td>\n",
              "      <td>0.198028</td>\n",
              "      <td>1.000000</td>\n",
              "    </tr>\n",
              "  </tbody>\n",
              "</table>\n",
              "</div>"
            ],
            "text/plain": [
              "                 home_team_score  away_team_score  ...  away_team_rank  total_scores\n",
              "home_team_score         1.000000        -0.132413  ...        0.309322      0.837344\n",
              "away_team_score        -0.132413         1.000000  ...       -0.151524      0.430988\n",
              "year                   -0.008058        -0.044407  ...        0.268029     -0.031828\n",
              "home_team_rank         -0.043381         0.143060  ...        0.534618      0.039409\n",
              "away_team_rank          0.309322        -0.151524  ...        1.000000      0.198028\n",
              "total_scores            0.837344         0.430988  ...        0.198028      1.000000\n",
              "\n",
              "[6 rows x 6 columns]"
            ]
          },
          "metadata": {},
          "execution_count": 434
        }
      ]
    },
    {
      "cell_type": "markdown",
      "metadata": {
        "id": "NrEr0LUOVRgj"
      },
      "source": [
        "Heatmap"
      ]
    },
    {
      "cell_type": "code",
      "metadata": {
        "colab": {
          "base_uri": "https://localhost:8080/",
          "height": 367
        },
        "id": "WH_3qfjtVRJ2",
        "outputId": "e1471e78-0b81-41a9-c0fa-83bcb78afcf0"
      },
      "source": [
        "#Plotting heat map\n",
        "sns.heatmap(correlation, xticklabels=correlation.columns, yticklabels=correlation.columns, annot=True)"
      ],
      "execution_count": 435,
      "outputs": [
        {
          "output_type": "execute_result",
          "data": {
            "text/plain": [
              "<matplotlib.axes._subplots.AxesSubplot at 0x7f18a025d590>"
            ]
          },
          "metadata": {},
          "execution_count": 435
        },
        {
          "output_type": "display_data",
          "data": {
            "image/png": "[encoded data removed]",
            "text/plain": [
              "<Figure size 432x288 with 2 Axes>"
            ]
          },
          "metadata": {
            "needs_background": "light"
          }
        }
      ]
    },
    {
      "cell_type": "markdown",
      "metadata": {
        "id": "VDemvpDBWDPk"
      },
      "source": [
        "Multicollinearity"
      ]
    },
    {
      "cell_type": "code",
      "metadata": {
        "colab": {
          "base_uri": "https://localhost:8080/",
          "height": 232
        },
        "id": "hk-ufjvsVQIO",
        "outputId": "cf8b8a1f-5964-431e-d940-5870b8c5a189"
      },
      "source": [
        "#Use VIF score of the data\n",
        "pd.DataFrame(np.linalg.inv(correlation.values), index = correlation.index, columns=correlation.columns)"
      ],
      "execution_count": 436,
      "outputs": [
        {
          "output_type": "execute_result",
          "data": {
            "text/html": [
              "<div>\n",
              "<style scoped>\n",
              "    .dataframe tbody tr th:only-of-type {\n",
              "        vertical-align: middle;\n",
              "    }\n",
              "\n",
              "    .dataframe tbody tr th {\n",
              "        vertical-align: top;\n",
              "    }\n",
              "\n",
              "    .dataframe thead th {\n",
              "        text-align: right;\n",
              "    }\n",
              "</style>\n",
              "<table border=\"1\" class=\"dataframe\">\n",
              "  <thead>\n",
              "    <tr style=\"text-align: right;\">\n",
              "      <th></th>\n",
              "      <th>home_team_score</th>\n",
              "      <th>away_team_score</th>\n",
              "      <th>year</th>\n",
              "      <th>home_team_rank</th>\n",
              "      <th>away_team_rank</th>\n",
              "      <th>total_scores</th>\n",
              "    </tr>\n",
              "  </thead>\n",
              "  <tbody>\n",
              "    <tr>\n",
              "      <th>home_team_score</th>\n",
              "      <td>5.448898e+13</td>\n",
              "      <td>3.301117e+13</td>\n",
              "      <td>0.014673</td>\n",
              "      <td>0.287678</td>\n",
              "      <td>-0.408866</td>\n",
              "      <td>-5.985342e+13</td>\n",
              "    </tr>\n",
              "    <tr>\n",
              "      <th>away_team_score</th>\n",
              "      <td>3.301117e+13</td>\n",
              "      <td>1.999922e+13</td>\n",
              "      <td>-0.014482</td>\n",
              "      <td>-0.367445</td>\n",
              "      <td>0.427693</td>\n",
              "      <td>-3.626111e+13</td>\n",
              "    </tr>\n",
              "    <tr>\n",
              "      <th>year</th>\n",
              "      <td>1.492548e-02</td>\n",
              "      <td>-1.432904e-02</td>\n",
              "      <td>1.093202</td>\n",
              "      <td>-0.088774</td>\n",
              "      <td>-0.269227</td>\n",
              "      <td>8.528529e-02</td>\n",
              "    </tr>\n",
              "    <tr>\n",
              "      <th>home_team_rank</th>\n",
              "      <td>2.902191e-01</td>\n",
              "      <td>-3.659059e-01</td>\n",
              "      <td>-0.088774</td>\n",
              "      <td>1.612573</td>\n",
              "      <td>-0.992410</td>\n",
              "      <td>4.483711e-02</td>\n",
              "    </tr>\n",
              "    <tr>\n",
              "      <th>away_team_rank</th>\n",
              "      <td>-4.119032e-01</td>\n",
              "      <td>4.258525e-01</td>\n",
              "      <td>-0.269227</td>\n",
              "      <td>-0.992410</td>\n",
              "      <td>1.828354</td>\n",
              "      <td>-1.701571e-01</td>\n",
              "    </tr>\n",
              "    <tr>\n",
              "      <th>total_scores</th>\n",
              "      <td>-5.985342e+13</td>\n",
              "      <td>-3.626111e+13</td>\n",
              "      <td>0.085562</td>\n",
              "      <td>0.047628</td>\n",
              "      <td>-0.173493</td>\n",
              "      <td>6.574598e+13</td>\n",
              "    </tr>\n",
              "  </tbody>\n",
              "</table>\n",
              "</div>"
            ],
            "text/plain": [
              "                 home_team_score  away_team_score  ...  away_team_rank  total_scores\n",
              "home_team_score     5.448898e+13     3.301117e+13  ...       -0.408866 -5.985342e+13\n",
              "away_team_score     3.301117e+13     1.999922e+13  ...        0.427693 -3.626111e+13\n",
              "year                1.492548e-02    -1.432904e-02  ...       -0.269227  8.528529e-02\n",
              "home_team_rank      2.902191e-01    -3.659059e-01  ...       -0.992410  4.483711e-02\n",
              "away_team_rank     -4.119032e-01     4.258525e-01  ...        1.828354 -1.701571e-01\n",
              "total_scores       -5.985342e+13    -3.626111e+13  ...       -0.173493  6.574598e+13\n",
              "\n",
              "[6 rows x 6 columns]"
            ]
          },
          "metadata": {},
          "execution_count": 436
        }
      ]
    },
    {
      "cell_type": "markdown",
      "metadata": {
        "id": "tVIk7Nl0bGOM"
      },
      "source": [
        "The Vif score along the downward slope had values less that 5, which concludes that there is a low correlation between our independent variables"
      ]
    },
    {
      "cell_type": "markdown",
      "metadata": {
        "id": "ekCrCa7Rbmqv"
      },
      "source": [
        "##  Polynomial Regression"
      ]
    },
    {
      "cell_type": "code",
      "metadata": {
        "id": "EpFMyO9paTaZ"
      },
      "source": [
        "#create a copy of the dataframe\n",
        "\n",
        "df = df_all.copy()"
      ],
      "execution_count": 437,
      "outputs": []
    },
    {
      "cell_type": "code",
      "metadata": {
        "colab": {
          "base_uri": "https://localhost:8080/",
          "height": 414
        },
        "id": "9O3xrJLjb0Lj",
        "outputId": "1402f5e7-6872-4830-8a5a-fe6ae2cae0b0"
      },
      "source": [
        "#Encode our categorical columns\n",
        "label_encoder = LabelEncoder()\n",
        "\n",
        "# home team\n",
        "label_encoder.fit(df['home_team'])\n",
        "df['home_team'] = label_encoder.transform(df['home_team'])\n",
        "\n",
        "# away team\n",
        "label_encoder.fit(df['away_team'])\n",
        "df['away_team'] = label_encoder.transform(df['away_team'])\n",
        "\n",
        "#tournament\n",
        "label_encoder.fit(df['tournament'])\n",
        "df['tournament'] = label_encoder.transform(df['tournament'])\n",
        "\n",
        "# game results\n",
        "label_encoder.fit(df['game_results'])\n",
        "df['game_results'] = label_encoder.transform(df['game_results'])\n",
        "\n",
        "# year\n",
        "label_encoder.fit(df['year'])\n",
        "df['year'] = label_encoder.transform(df['year'])\n",
        "\n",
        "df"
      ],
      "execution_count": 438,
      "outputs": [
        {
          "output_type": "execute_result",
          "data": {
            "text/html": [
              "<div>\n",
              "<style scoped>\n",
              "    .dataframe tbody tr th:only-of-type {\n",
              "        vertical-align: middle;\n",
              "    }\n",
              "\n",
              "    .dataframe tbody tr th {\n",
              "        vertical-align: top;\n",
              "    }\n",
              "\n",
              "    .dataframe thead th {\n",
              "        text-align: right;\n",
              "    }\n",
              "</style>\n",
              "<table border=\"1\" class=\"dataframe\">\n",
              "  <thead>\n",
              "    <tr style=\"text-align: right;\">\n",
              "      <th></th>\n",
              "      <th>home_team</th>\n",
              "      <th>home_team_score</th>\n",
              "      <th>away_team</th>\n",
              "      <th>away_team_score</th>\n",
              "      <th>year</th>\n",
              "      <th>home_team_rank</th>\n",
              "      <th>away_team_rank</th>\n",
              "      <th>tournament</th>\n",
              "      <th>game_results</th>\n",
              "      <th>total_scores</th>\n",
              "    </tr>\n",
              "  </thead>\n",
              "  <tbody>\n",
              "    <tr>\n",
              "      <th>0</th>\n",
              "      <td>20</td>\n",
              "      <td>3</td>\n",
              "      <td>150</td>\n",
              "      <td>1</td>\n",
              "      <td>0</td>\n",
              "      <td>59.0</td>\n",
              "      <td>22.0</td>\n",
              "      <td>16</td>\n",
              "      <td>2</td>\n",
              "      <td>4</td>\n",
              "    </tr>\n",
              "    <tr>\n",
              "      <th>1</th>\n",
              "      <td>23</td>\n",
              "      <td>1</td>\n",
              "      <td>90</td>\n",
              "      <td>1</td>\n",
              "      <td>0</td>\n",
              "      <td>8.0</td>\n",
              "      <td>14.0</td>\n",
              "      <td>17</td>\n",
              "      <td>0</td>\n",
              "      <td>2</td>\n",
              "    </tr>\n",
              "    <tr>\n",
              "      <th>2</th>\n",
              "      <td>40</td>\n",
              "      <td>5</td>\n",
              "      <td>153</td>\n",
              "      <td>0</td>\n",
              "      <td>0</td>\n",
              "      <td>35.0</td>\n",
              "      <td>94.0</td>\n",
              "      <td>16</td>\n",
              "      <td>2</td>\n",
              "      <td>5</td>\n",
              "    </tr>\n",
              "    <tr>\n",
              "      <th>3</th>\n",
              "      <td>59</td>\n",
              "      <td>1</td>\n",
              "      <td>125</td>\n",
              "      <td>0</td>\n",
              "      <td>0</td>\n",
              "      <td>65.0</td>\n",
              "      <td>86.0</td>\n",
              "      <td>17</td>\n",
              "      <td>2</td>\n",
              "      <td>1</td>\n",
              "    </tr>\n",
              "    <tr>\n",
              "      <th>4</th>\n",
              "      <td>111</td>\n",
              "      <td>1</td>\n",
              "      <td>7</td>\n",
              "      <td>3</td>\n",
              "      <td>0</td>\n",
              "      <td>67.0</td>\n",
              "      <td>5.0</td>\n",
              "      <td>16</td>\n",
              "      <td>1</td>\n",
              "      <td>4</td>\n",
              "    </tr>\n",
              "    <tr>\n",
              "      <th>...</th>\n",
              "      <td>...</td>\n",
              "      <td>...</td>\n",
              "      <td>...</td>\n",
              "      <td>...</td>\n",
              "      <td>...</td>\n",
              "      <td>...</td>\n",
              "      <td>...</td>\n",
              "      <td>...</td>\n",
              "      <td>...</td>\n",
              "      <td>...</td>\n",
              "    </tr>\n",
              "    <tr>\n",
              "      <th>952</th>\n",
              "      <td>43</td>\n",
              "      <td>2</td>\n",
              "      <td>35</td>\n",
              "      <td>0</td>\n",
              "      <td>25</td>\n",
              "      <td>12.0</td>\n",
              "      <td>23.0</td>\n",
              "      <td>17</td>\n",
              "      <td>2</td>\n",
              "      <td>2</td>\n",
              "    </tr>\n",
              "    <tr>\n",
              "      <th>953</th>\n",
              "      <td>151</td>\n",
              "      <td>3</td>\n",
              "      <td>151</td>\n",
              "      <td>0</td>\n",
              "      <td>25</td>\n",
              "      <td>14.0</td>\n",
              "      <td>95.0</td>\n",
              "      <td>17</td>\n",
              "      <td>2</td>\n",
              "      <td>3</td>\n",
              "    </tr>\n",
              "    <tr>\n",
              "      <th>954</th>\n",
              "      <td>115</td>\n",
              "      <td>3</td>\n",
              "      <td>2</td>\n",
              "      <td>0</td>\n",
              "      <td>25</td>\n",
              "      <td>4.0</td>\n",
              "      <td>66.0</td>\n",
              "      <td>17</td>\n",
              "      <td>2</td>\n",
              "      <td>3</td>\n",
              "    </tr>\n",
              "    <tr>\n",
              "      <th>955</th>\n",
              "      <td>65</td>\n",
              "      <td>2</td>\n",
              "      <td>56</td>\n",
              "      <td>2</td>\n",
              "      <td>25</td>\n",
              "      <td>22.0</td>\n",
              "      <td>47.0</td>\n",
              "      <td>17</td>\n",
              "      <td>0</td>\n",
              "      <td>4</td>\n",
              "    </tr>\n",
              "    <tr>\n",
              "      <th>956</th>\n",
              "      <td>66</td>\n",
              "      <td>1</td>\n",
              "      <td>98</td>\n",
              "      <td>2</td>\n",
              "      <td>25</td>\n",
              "      <td>97.0</td>\n",
              "      <td>120.0</td>\n",
              "      <td>21</td>\n",
              "      <td>1</td>\n",
              "      <td>3</td>\n",
              "    </tr>\n",
              "  </tbody>\n",
              "</table>\n",
              "<p>871 rows × 10 columns</p>\n",
              "</div>"
            ],
            "text/plain": [
              "     home_team  home_team_score  ...  game_results  total_scores\n",
              "0           20                3  ...             2             4\n",
              "1           23                1  ...             0             2\n",
              "2           40                5  ...             2             5\n",
              "3           59                1  ...             2             1\n",
              "4          111                1  ...             1             4\n",
              "..         ...              ...  ...           ...           ...\n",
              "952         43                2  ...             2             2\n",
              "953        151                3  ...             2             3\n",
              "954        115                3  ...             2             3\n",
              "955         65                2  ...             0             4\n",
              "956         66                1  ...             1             3\n",
              "\n",
              "[871 rows x 10 columns]"
            ]
          },
          "metadata": {},
          "execution_count": 438
        }
      ]
    },
    {
      "cell_type": "markdown",
      "metadata": {
        "id": "D5bGLnH2cSo2"
      },
      "source": [
        "### Models\n",
        "\n",
        "model 1: Predict how many goals the team scores"
      ]
    },
    {
      "cell_type": "code",
      "metadata": {
        "id": "UlXTwl--cQH5"
      },
      "source": [
        "#declaring the independent variable as X and y\n",
        "\n",
        "X = df[['home_team_rank','away_team_rank','tournament']].values\n",
        "y = df['home_team_score'].values"
      ],
      "execution_count": 439,
      "outputs": []
    },
    {
      "cell_type": "code",
      "metadata": {
        "id": "73DFGwRvc0fh"
      },
      "source": [
        "# Split the dataset into train and test sets\n",
        "\n",
        "# set traning size of 80%\n",
        "X_train, X_test, y_train, y_test = train_test_split(X,y, test_size = 0.2, random_state=0)\n"
      ],
      "execution_count": 440,
      "outputs": []
    },
    {
      "cell_type": "code",
      "metadata": {
        "id": "lCuu_1v6dI9d"
      },
      "source": [
        "# Standardizing our data\n",
        "\n",
        "feature_scaler = StandardScaler()\n",
        "X_train = feature_scaler.fit_transform(X_train)\n",
        "X_test = feature_scaler.transform(X_test)"
      ],
      "execution_count": 441,
      "outputs": []
    },
    {
      "cell_type": "code",
      "metadata": {
        "colab": {
          "base_uri": "https://localhost:8080/"
        },
        "id": "_X_ZyYK5dMyV",
        "outputId": "bc9af9f8-bfac-4c84-d255-5b8875c8b41f"
      },
      "source": [
        "# Perform Polynomial Regression\n",
        "#\n",
        "poly_reg = PolynomialFeatures(degree = 4) \n",
        "X_train = poly_reg.fit_transform(X_train)\n",
        "X_test = poly_reg.fit_transform(X_test)\n",
        "\n",
        "\n",
        "pol_reg = LinearRegression()\n",
        "pol_reg.fit(X_train,y_train)"
      ],
      "execution_count": 442,
      "outputs": [
        {
          "output_type": "execute_result",
          "data": {
            "text/plain": [
              "LinearRegression(copy_X=True, fit_intercept=True, n_jobs=None, normalize=False)"
            ]
          },
          "metadata": {},
          "execution_count": 442
        }
      ]
    },
    {
      "cell_type": "code",
      "metadata": {
        "colab": {
          "base_uri": "https://localhost:8080/"
        },
        "id": "b_ATsCgfdMmb",
        "outputId": "e321803d-534e-4227-8c77-5b104744d205"
      },
      "source": [
        "#Predicting\n",
        "y_predict = pol_reg.predict(X_test)\n",
        "y_predict"
      ],
      "execution_count": 443,
      "outputs": [
        {
          "output_type": "execute_result",
          "data": {
            "text/plain": [
              "array([ 0.91318187,  0.51402591,  1.31737329,  1.09137093,  0.89399866,\n",
              "        1.21655595,  1.18889168,  1.57390194,  0.99712391,  1.27821097,\n",
              "        2.04946553,  1.77246863,  1.38590536,  1.72413712,  1.67063112,\n",
              "        1.05077167,  1.30416939,  1.21132578,  1.78735676,  1.13811036,\n",
              "        1.88095162,  1.13404649,  1.5817686 ,  1.34317503,  1.22497074,\n",
              "        0.5805761 ,  0.02480608,  1.57112494,  1.59309107,  1.37560131,\n",
              "        1.26128964,  0.64763843,  1.69288684,  0.89700347,  0.85247322,\n",
              "        1.68506098,  0.87355237,  1.4642575 ,  1.94794894,  0.84602681,\n",
              "        1.59467464,  1.66604215,  1.02687393,  2.08442012,  1.98800589,\n",
              "        2.80116373,  1.28209869,  0.21887962,  2.84633362,  1.33078736,\n",
              "        1.72978343,  1.06220853,  1.63470528,  2.09120348,  1.31591577,\n",
              "        0.99165445,  0.9356142 ,  1.56568413,  1.18834609,  1.30516781,\n",
              "        1.88928742,  1.58221322,  1.36397953,  1.43072724,  1.36196235,\n",
              "        1.29334866,  1.92369671,  1.77711129,  1.6470317 ,  3.05102527,\n",
              "        1.75634738,  2.00539437,  1.30358661,  1.7879999 ,  1.7238776 ,\n",
              "        2.20484785,  1.70364093,  2.19977179,  1.29962143,  1.55357267,\n",
              "        0.9059965 ,  2.05304297,  2.08264167,  1.22497074,  1.41443568,\n",
              "        1.16334984,  1.12091128,  1.41782488,  1.0029505 ,  0.83148892,\n",
              "        0.52631601,  1.1619306 ,  3.21193764,  1.37169417,  1.23045082,\n",
              "       12.67093939, -0.05210067,  1.30467128,  1.81962178,  1.8244524 ,\n",
              "        1.52591796,  1.78919381,  1.29813433,  0.63054726,  0.56379407,\n",
              "        1.84693953,  1.84708445,  1.4530373 ,  0.94400391,  1.79545109,\n",
              "        1.77290245,  1.69977706,  1.03184332,  1.12013713,  1.79161285,\n",
              "        2.13094363,  0.78736227,  2.37621057,  1.77400979,  1.38848161,\n",
              "        0.97984057,  1.63450104,  0.35508167,  4.98514081,  0.93769429,\n",
              "        0.98796308,  1.2958167 ,  1.63444123,  1.64670113,  1.18019657,\n",
              "        1.25081682,  0.48932725,  1.53387007,  1.057745  ,  2.26341284,\n",
              "        1.049048  ,  6.58370501,  0.76217706,  1.18569911,  0.98740391,\n",
              "        1.03551035,  1.33383241,  2.20228912,  0.41551882,  1.8142717 ,\n",
              "        2.71033914,  1.66122864,  0.30221571,  1.82404108,  1.42598719,\n",
              "        1.55474026,  1.54688954,  1.41385565,  1.73156304,  1.72831191,\n",
              "        2.16107264,  2.37709564,  1.90642896,  2.10903565,  1.11719197,\n",
              "        1.86156372,  1.54092796,  1.32980946,  1.91966633,  1.61889721,\n",
              "        1.24782941,  1.32103051,  1.25308859,  1.72153916,  1.79285861,\n",
              "        1.76850393,  1.68519248,  1.37734678,  1.91603738,  2.36431855])"
            ]
          },
          "metadata": {},
          "execution_count": 443
        }
      ]
    },
    {
      "cell_type": "code",
      "metadata": {
        "colab": {
          "base_uri": "https://localhost:8080/"
        },
        "id": "1D9hHNo_dfXp",
        "outputId": "013fb446-33d8-4766-a2d5-3d3f33fc9716"
      },
      "source": [
        "# Compute RMSE\n",
        "\n",
        "from sklearn.metrics import mean_squared_error\n",
        "rmse = np.sqrt(mean_squared_error(y_test, y_predict))\n",
        "print(\"The RMSE score is: \",rmse)"
      ],
      "execution_count": 444,
      "outputs": [
        {
          "output_type": "stream",
          "name": "stdout",
          "text": [
            "The RMSE score is:  1.5315071620776417\n"
          ]
        }
      ]
    },
    {
      "cell_type": "markdown",
      "metadata": {
        "id": "Frl2dBzre_xn"
      },
      "source": [
        "Bartlett test"
      ]
    },
    {
      "cell_type": "code",
      "metadata": {
        "colab": {
          "base_uri": "https://localhost:8080/"
        },
        "id": "RvBWAdfPfMsL",
        "outputId": "7c6c403c-1906-4480-e128-9f49a4973cc0"
      },
      "source": [
        "# Use Bartlett test to check the homogeneity of our dataset\n",
        "\n",
        "residuals = np.subtract(y_predict, y_test)\n",
        "\n",
        "pd.DataFrame(residuals).describe()\n",
        "\n",
        "residuals.mean()\n",
        "\n",
        "test_result, p_value = sp.stats.bartlett(y_predict, residuals)\n",
        "\n",
        "degree_of_freedom = len(y_predict) - 1\n",
        "\n",
        "probability = 1 - p_value\n",
        "\n",
        "critical_value = sp.stats.chi2.ppf(probability, degree_of_freedom)\n",
        "\n",
        "if (test_result > critical_value):\n",
        "    print('There are patterns to the variance of the data')\n",
        "if (test_result < critical_value):\n",
        "  print('The variance is homogenous across our data')"
      ],
      "execution_count": 445,
      "outputs": [
        {
          "output_type": "stream",
          "name": "stdout",
          "text": [
            "The variance is homogenous across our data\n"
          ]
        }
      ]
    },
    {
      "cell_type": "markdown",
      "metadata": {
        "id": "-aQ2J7LNfdLl"
      },
      "source": [
        "## Cross Validation"
      ]
    },
    {
      "cell_type": "code",
      "metadata": {
        "colab": {
          "base_uri": "https://localhost:8080/"
        },
        "id": "LUFrGMw9fhfQ",
        "outputId": "fc4f54f4-c1ef-4909-b086-b25dcfc643a2"
      },
      "source": [
        "# We shall crosvalidate to check the skill of our model.\n",
        "#\n",
        "folds = KFold(n_splits=10)\n",
        "print('Number of folds: ',str(folds.get_n_splits(X)))\n",
        "\n",
        "# We now create and assess models based on the folds we created.\n",
        "\n",
        "RMSES = [] # We will use this array to keep track of the RMSE of each model\n",
        "count = 1 # This will just help \n",
        "for train_index, test_index in folds.split(X):\n",
        "  print('\\nTraining model ' + str(count))\n",
        "  \n",
        "# set up the train and test based on the split determined by KFold\n",
        "  X_train, X_test = X[train_index], X[test_index]\n",
        "  y_train, y_test = y[train_index], y[test_index]\n",
        "  \n",
        "  # fit a model accordingly\n",
        "  regressor = LinearRegression()  \n",
        "  regressor.fit(X_train, y_train)\n",
        "  \n",
        "  # assess the accuraccy of the model\n",
        "  y_predict = regressor.predict(X_test)\n",
        "  \n",
        "  rmse_value =  np.sqrt(metrics.mean_squared_error(y_test, y_predict))\n",
        "  RMSES.append(rmse_value)\n",
        "  \n",
        "  print('Model ' + str(count) + ' Root Mean Squared Error:',rmse_value)\n",
        "  count = count + 1\n",
        "\n",
        "print(\"\\nThe mean of our RMSEs is \", np.mean(RMSES))"
      ],
      "execution_count": 446,
      "outputs": [
        {
          "output_type": "stream",
          "name": "stdout",
          "text": [
            "Number of folds:  10\n",
            "\n",
            "Training model 1\n",
            "Model 1 Root Mean Squared Error: 1.4297526810930787\n",
            "\n",
            "Training model 2\n",
            "Model 2 Root Mean Squared Error: 1.5184071886401382\n",
            "\n",
            "Training model 3\n",
            "Model 3 Root Mean Squared Error: 3.267106363063609\n",
            "\n",
            "Training model 4\n",
            "Model 4 Root Mean Squared Error: 1.2119095487731706\n",
            "\n",
            "Training model 5\n",
            "Model 5 Root Mean Squared Error: 1.8771033743701577\n",
            "\n",
            "Training model 6\n",
            "Model 6 Root Mean Squared Error: 1.4172777607682696\n",
            "\n",
            "Training model 7\n",
            "Model 7 Root Mean Squared Error: 1.260296363686627\n",
            "\n",
            "Training model 8\n",
            "Model 8 Root Mean Squared Error: 1.2672407024858294\n",
            "\n",
            "Training model 9\n",
            "Model 9 Root Mean Squared Error: 1.337334513287353\n",
            "\n",
            "Training model 10\n",
            "Model 10 Root Mean Squared Error: 2.03599762453511\n",
            "\n",
            "The mean of our RMSEs is  1.6622426120703342\n"
          ]
        }
      ]
    },
    {
      "cell_type": "markdown",
      "metadata": {
        "id": "unP1FEXAgwOL"
      },
      "source": [
        "The RMSE of model 3 and 10 are far away from the rest because of the outliers that we did not remove"
      ]
    },
    {
      "cell_type": "markdown",
      "metadata": {
        "id": "VKA9fIM6hCof"
      },
      "source": [
        "## Residual Plots & Heteroscedasticity"
      ]
    },
    {
      "cell_type": "code",
      "metadata": {
        "colab": {
          "base_uri": "https://localhost:8080/",
          "height": 279
        },
        "id": "6eR0IbnQhGVg",
        "outputId": "aa59c110-35ba-4e2a-e312-b86917516df4"
      },
      "source": [
        "# Plotting our residual plots\n",
        "#\n",
        "residuals = np.subtract(y_predict, y_test)\n",
        "plt.scatter(y_predict, residuals, color='black')\n",
        "plt.ylabel('residual')\n",
        "plt.xlabel('fitted values')\n",
        "plt.axhline(y= residuals.mean(), color='red', linewidth=1)\n",
        "plt.show()"
      ],
      "execution_count": 447,
      "outputs": [
        {
          "output_type": "display_data",
          "data": {
            "image/png": "[encoded data removed]",
            "text/plain": [
              "<Figure size 432x288 with 1 Axes>"
            ]
          },
          "metadata": {
            "needs_background": "light"
          }
        }
      ]
    },
    {
      "cell_type": "markdown",
      "metadata": {
        "id": "Nm507eZvhUSA"
      },
      "source": [
        "\n",
        "Model 2: Predict how many goals the away team scores.\n",
        "\n",
        "\n",
        "Our residuals have a pattern, thus there may be an issue with the correctness of our model for prediction. We may therefore need to redefine our variables."
      ]
    },
    {
      "cell_type": "code",
      "metadata": {
        "id": "4_cE8S0uhVr0"
      },
      "source": [
        "# Assigning X & Y to our independent and dependent variables\n",
        "#\n",
        "X = df[['home_team_rank','away_team_rank','tournament']].values\n",
        "y = df['away_team_score'].values"
      ],
      "execution_count": 448,
      "outputs": []
    },
    {
      "cell_type": "code",
      "metadata": {
        "id": "-0BsIF7Nhoql"
      },
      "source": [
        "# Split the dataset into train and test sets\n",
        "#\n",
        "X_train, X_test, y_train, y_test = train_test_split(X , y, test_size=0.2, random_state = 0)"
      ],
      "execution_count": 449,
      "outputs": []
    },
    {
      "cell_type": "code",
      "metadata": {
        "id": "Rv06-rZfhzkM"
      },
      "source": [
        "# Standardizing our data\n",
        "#\n",
        "feature_scaler = StandardScaler()\n",
        "X_train = feature_scaler.fit_transform(X_train)\n",
        "X_test = feature_scaler.transform(X_test)"
      ],
      "execution_count": 450,
      "outputs": []
    },
    {
      "cell_type": "code",
      "metadata": {
        "colab": {
          "base_uri": "https://localhost:8080/"
        },
        "id": "7JBiNNRjh3Pf",
        "outputId": "2c863b58-5266-4bd5-ea6f-117108ffdbfa"
      },
      "source": [
        "# Fit our dataset to polynomial Regression\n",
        "#\n",
        "poly_reg = PolynomialFeatures(degree = 4) \n",
        "X_train = poly_reg.fit_transform(X_train)\n",
        "X_test = poly_reg.fit_transform(X_test)\n",
        "\n",
        "\n",
        "pol_reg = LinearRegression()\n",
        "pol_reg.fit(X_train, y_train)"
      ],
      "execution_count": 451,
      "outputs": [
        {
          "output_type": "execute_result",
          "data": {
            "text/plain": [
              "LinearRegression(copy_X=True, fit_intercept=True, n_jobs=None, normalize=False)"
            ]
          },
          "metadata": {},
          "execution_count": 451
        }
      ]
    },
    {
      "cell_type": "code",
      "metadata": {
        "id": "fH6SSugciAoy"
      },
      "source": [
        "# Predicting \n",
        "#\n",
        "y_predict = pol_reg.predict(X_test)"
      ],
      "execution_count": 452,
      "outputs": []
    },
    {
      "cell_type": "code",
      "metadata": {
        "colab": {
          "base_uri": "https://localhost:8080/"
        },
        "id": "tMRiJzW_iHQ7",
        "outputId": "6f4ee59c-8050-4403-fb0d-60f7bba1b2c1"
      },
      "source": [
        "# Compute RMSE\n",
        "#\n",
        "from sklearn.metrics import mean_squared_error\n",
        "rmse2 = np.sqrt(mean_squared_error(y_test, y_predict))\n",
        "rmse2"
      ],
      "execution_count": 455,
      "outputs": [
        {
          "output_type": "execute_result",
          "data": {
            "text/plain": [
              "1.3445336116291566"
            ]
          },
          "metadata": {},
          "execution_count": 455
        }
      ]
    },
    {
      "cell_type": "markdown",
      "metadata": {
        "id": "0o87K22_mBzC"
      },
      "source": [
        "Our RMSE is 1.34453, we shall now check for homogeneity"
      ]
    },
    {
      "cell_type": "code",
      "metadata": {
        "colab": {
          "base_uri": "https://localhost:8080/"
        },
        "id": "PdK8A3VWiRI6",
        "outputId": "b70875b5-0feb-4b92-e36a-c6c0fc20f23a"
      },
      "source": [
        "# Using Bartlett test to check the homogeneity of our dataset\n",
        "#\n",
        "residuals = np.subtract(y_predict, y_test)\n",
        "\n",
        "pd.DataFrame(residuals).describe()\n",
        "\n",
        "residuals.mean()\n",
        "\n",
        "test_result, p_value = sp.stats.bartlett(y_predict, residuals)\n",
        "\n",
        "degree_of_freedom = len(y_predict) - 1\n",
        "\n",
        "probability = 1 - p_value\n",
        "\n",
        "critical_value = sp.stats.chi2.ppf(probability, degree_of_freedom)\n",
        "\n",
        "if (test_result > critical_value):\n",
        "    print('There are patterns to the variance of the data')\n",
        "if (test_result < critical_value):\n",
        "  print('The variance is homogenous across our data')"
      ],
      "execution_count": 456,
      "outputs": [
        {
          "output_type": "stream",
          "name": "stdout",
          "text": [
            "The variance is homogenous across our data\n"
          ]
        }
      ]
    },
    {
      "cell_type": "markdown",
      "metadata": {
        "id": "19DM8MKXi0Fv"
      },
      "source": [
        "### Cross Validation"
      ]
    },
    {
      "cell_type": "code",
      "metadata": {
        "colab": {
          "base_uri": "https://localhost:8080/"
        },
        "id": "oaJev-EFiwNO",
        "outputId": "57a6ad64-6c02-41d7-bf09-4a53c9902c67"
      },
      "source": [
        "# We shall crosvalidate to check the skill of our model.\n",
        "#\n",
        "folds = KFold(n_splits=10)\n",
        "print('Number of Folds ',str(folds.get_n_splits(X)))\n",
        "\n",
        "# We now create and assess models based on the folds we created.\n",
        "\n",
        "RMSES = [] # We will use this array to keep track of the RMSE of each model\n",
        "count = 1 # This will just help \n",
        "for train_index, test_index in folds.split(X):\n",
        "  print('\\nTraining model ' + str(count))\n",
        "  \n",
        "# set up the train and test based on the split determined by KFold\n",
        "  X_train, X_test = X[train_index], X[test_index]\n",
        "  y_train, y_test = y[train_index], y[test_index]\n",
        "  \n",
        "  # fit a model accordingly\n",
        "  regressor = LinearRegression()  \n",
        "  regressor.fit(X_train, y_train)\n",
        "  \n",
        "  # assess the accuraccy of the model\n",
        "  y_predict = regressor.predict(X_test)\n",
        "  \n",
        "  rmse_value =  np.sqrt(metrics.mean_squared_error(y_test, y_predict))\n",
        "  RMSES.append(rmse_value)\n",
        "  \n",
        "  print('Model ' + str(count) + ' Root Mean Squared Error:',rmse_value)\n",
        "  count = count + 1\n",
        "\n",
        "print(\"\\nThe mean of our RMSEs is \", np.mean(RMSES))"
      ],
      "execution_count": 457,
      "outputs": [
        {
          "output_type": "stream",
          "name": "stdout",
          "text": [
            "Number of Folds  10\n",
            "\n",
            "Training model 1\n",
            "Model 1 Root Mean Squared Error: 1.1050533087274415\n",
            "\n",
            "Training model 2\n",
            "Model 2 Root Mean Squared Error: 0.9927110387616627\n",
            "\n",
            "Training model 3\n",
            "Model 3 Root Mean Squared Error: 1.2860044935154484\n",
            "\n",
            "Training model 4\n",
            "Model 4 Root Mean Squared Error: 1.1863548493974092\n",
            "\n",
            "Training model 5\n",
            "Model 5 Root Mean Squared Error: 1.1893419536021443\n",
            "\n",
            "Training model 6\n",
            "Model 6 Root Mean Squared Error: 1.189700818774265\n",
            "\n",
            "Training model 7\n",
            "Model 7 Root Mean Squared Error: 1.0981493808080283\n",
            "\n",
            "Training model 8\n",
            "Model 8 Root Mean Squared Error: 0.8724205553142826\n",
            "\n",
            "Training model 9\n",
            "Model 9 Root Mean Squared Error: 1.0872499356231318\n",
            "\n",
            "Training model 10\n",
            "Model 10 Root Mean Squared Error: 0.9801519247968117\n",
            "\n",
            "The mean of our RMSEs is  1.0987138259320623\n"
          ]
        }
      ]
    },
    {
      "cell_type": "markdown",
      "metadata": {
        "id": "jS5jEKcdjaAn"
      },
      "source": [
        "## Residual Plots & Heteroscedasticity"
      ]
    },
    {
      "cell_type": "code",
      "metadata": {
        "colab": {
          "base_uri": "https://localhost:8080/",
          "height": 280
        },
        "id": "2UcTBKdQjbZv",
        "outputId": "502ebbdf-5daf-436e-86a2-3e37428fd368"
      },
      "source": [
        "# Plotting our residual plots\n",
        "#\n",
        "residuals = np.subtract(y_predict, y_test)\n",
        "plt.scatter(y_predict, residuals, color='black')\n",
        "plt.ylabel('residual')\n",
        "plt.xlabel('fitted values')\n",
        "plt.axhline(y= residuals.mean(), color='red', linewidth=1)\n",
        "plt.show()"
      ],
      "execution_count": 458,
      "outputs": [
        {
          "output_type": "display_data",
          "data": {
            "image/png": "[encoded data removed]",
            "text/plain": [
              "<Figure size 432x288 with 1 Axes>"
            ]
          },
          "metadata": {
            "needs_background": "light"
          }
        }
      ]
    },
    {
      "cell_type": "markdown",
      "metadata": {
        "id": "c06Uq1eljj0d"
      },
      "source": [
        "Our residuals have a pattern, thus there may be an issue with the correctness of our model for prediction. We may therefore need to redefine our variables."
      ]
    },
    {
      "cell_type": "markdown",
      "metadata": {
        "id": "Cl48Btd_joqd"
      },
      "source": [
        "## Logistic Regression"
      ]
    },
    {
      "cell_type": "code",
      "metadata": {
        "colab": {
          "base_uri": "https://localhost:8080/",
          "height": 414
        },
        "id": "emiff7k0jrlr",
        "outputId": "149fff9a-933e-49fa-9625-14e7e36c5ff7"
      },
      "source": [
        "df"
      ],
      "execution_count": 459,
      "outputs": [
        {
          "output_type": "execute_result",
          "data": {
            "text/html": [
              "<div>\n",
              "<style scoped>\n",
              "    .dataframe tbody tr th:only-of-type {\n",
              "        vertical-align: middle;\n",
              "    }\n",
              "\n",
              "    .dataframe tbody tr th {\n",
              "        vertical-align: top;\n",
              "    }\n",
              "\n",
              "    .dataframe thead th {\n",
              "        text-align: right;\n",
              "    }\n",
              "</style>\n",
              "<table border=\"1\" class=\"dataframe\">\n",
              "  <thead>\n",
              "    <tr style=\"text-align: right;\">\n",
              "      <th></th>\n",
              "      <th>home_team</th>\n",
              "      <th>home_team_score</th>\n",
              "      <th>away_team</th>\n",
              "      <th>away_team_score</th>\n",
              "      <th>year</th>\n",
              "      <th>home_team_rank</th>\n",
              "      <th>away_team_rank</th>\n",
              "      <th>tournament</th>\n",
              "      <th>game_results</th>\n",
              "      <th>total_scores</th>\n",
              "    </tr>\n",
              "  </thead>\n",
              "  <tbody>\n",
              "    <tr>\n",
              "      <th>0</th>\n",
              "      <td>20</td>\n",
              "      <td>3</td>\n",
              "      <td>150</td>\n",
              "      <td>1</td>\n",
              "      <td>0</td>\n",
              "      <td>59.0</td>\n",
              "      <td>22.0</td>\n",
              "      <td>16</td>\n",
              "      <td>2</td>\n",
              "      <td>4</td>\n",
              "    </tr>\n",
              "    <tr>\n",
              "      <th>1</th>\n",
              "      <td>23</td>\n",
              "      <td>1</td>\n",
              "      <td>90</td>\n",
              "      <td>1</td>\n",
              "      <td>0</td>\n",
              "      <td>8.0</td>\n",
              "      <td>14.0</td>\n",
              "      <td>17</td>\n",
              "      <td>0</td>\n",
              "      <td>2</td>\n",
              "    </tr>\n",
              "    <tr>\n",
              "      <th>2</th>\n",
              "      <td>40</td>\n",
              "      <td>5</td>\n",
              "      <td>153</td>\n",
              "      <td>0</td>\n",
              "      <td>0</td>\n",
              "      <td>35.0</td>\n",
              "      <td>94.0</td>\n",
              "      <td>16</td>\n",
              "      <td>2</td>\n",
              "      <td>5</td>\n",
              "    </tr>\n",
              "    <tr>\n",
              "      <th>3</th>\n",
              "      <td>59</td>\n",
              "      <td>1</td>\n",
              "      <td>125</td>\n",
              "      <td>0</td>\n",
              "      <td>0</td>\n",
              "      <td>65.0</td>\n",
              "      <td>86.0</td>\n",
              "      <td>17</td>\n",
              "      <td>2</td>\n",
              "      <td>1</td>\n",
              "    </tr>\n",
              "    <tr>\n",
              "      <th>4</th>\n",
              "      <td>111</td>\n",
              "      <td>1</td>\n",
              "      <td>7</td>\n",
              "      <td>3</td>\n",
              "      <td>0</td>\n",
              "      <td>67.0</td>\n",
              "      <td>5.0</td>\n",
              "      <td>16</td>\n",
              "      <td>1</td>\n",
              "      <td>4</td>\n",
              "    </tr>\n",
              "    <tr>\n",
              "      <th>...</th>\n",
              "      <td>...</td>\n",
              "      <td>...</td>\n",
              "      <td>...</td>\n",
              "      <td>...</td>\n",
              "      <td>...</td>\n",
              "      <td>...</td>\n",
              "      <td>...</td>\n",
              "      <td>...</td>\n",
              "      <td>...</td>\n",
              "      <td>...</td>\n",
              "    </tr>\n",
              "    <tr>\n",
              "      <th>952</th>\n",
              "      <td>43</td>\n",
              "      <td>2</td>\n",
              "      <td>35</td>\n",
              "      <td>0</td>\n",
              "      <td>25</td>\n",
              "      <td>12.0</td>\n",
              "      <td>23.0</td>\n",
              "      <td>17</td>\n",
              "      <td>2</td>\n",
              "      <td>2</td>\n",
              "    </tr>\n",
              "    <tr>\n",
              "      <th>953</th>\n",
              "      <td>151</td>\n",
              "      <td>3</td>\n",
              "      <td>151</td>\n",
              "      <td>0</td>\n",
              "      <td>25</td>\n",
              "      <td>14.0</td>\n",
              "      <td>95.0</td>\n",
              "      <td>17</td>\n",
              "      <td>2</td>\n",
              "      <td>3</td>\n",
              "    </tr>\n",
              "    <tr>\n",
              "      <th>954</th>\n",
              "      <td>115</td>\n",
              "      <td>3</td>\n",
              "      <td>2</td>\n",
              "      <td>0</td>\n",
              "      <td>25</td>\n",
              "      <td>4.0</td>\n",
              "      <td>66.0</td>\n",
              "      <td>17</td>\n",
              "      <td>2</td>\n",
              "      <td>3</td>\n",
              "    </tr>\n",
              "    <tr>\n",
              "      <th>955</th>\n",
              "      <td>65</td>\n",
              "      <td>2</td>\n",
              "      <td>56</td>\n",
              "      <td>2</td>\n",
              "      <td>25</td>\n",
              "      <td>22.0</td>\n",
              "      <td>47.0</td>\n",
              "      <td>17</td>\n",
              "      <td>0</td>\n",
              "      <td>4</td>\n",
              "    </tr>\n",
              "    <tr>\n",
              "      <th>956</th>\n",
              "      <td>66</td>\n",
              "      <td>1</td>\n",
              "      <td>98</td>\n",
              "      <td>2</td>\n",
              "      <td>25</td>\n",
              "      <td>97.0</td>\n",
              "      <td>120.0</td>\n",
              "      <td>21</td>\n",
              "      <td>1</td>\n",
              "      <td>3</td>\n",
              "    </tr>\n",
              "  </tbody>\n",
              "</table>\n",
              "<p>871 rows × 10 columns</p>\n",
              "</div>"
            ],
            "text/plain": [
              "     home_team  home_team_score  ...  game_results  total_scores\n",
              "0           20                3  ...             2             4\n",
              "1           23                1  ...             0             2\n",
              "2           40                5  ...             2             5\n",
              "3           59                1  ...             2             1\n",
              "4          111                1  ...             1             4\n",
              "..         ...              ...  ...           ...           ...\n",
              "952         43                2  ...             2             2\n",
              "953        151                3  ...             2             3\n",
              "954        115                3  ...             2             3\n",
              "955         65                2  ...             0             4\n",
              "956         66                1  ...             1             3\n",
              "\n",
              "[871 rows x 10 columns]"
            ]
          },
          "metadata": {},
          "execution_count": 459
        }
      ]
    },
    {
      "cell_type": "code",
      "metadata": {
        "id": "R66yzzoakYL4"
      },
      "source": [
        "# Assigning X & Y to our independent and dependent variables\n",
        "#\n",
        "X = df.drop(['game_results'],axis=1).values\n",
        "y = df['game_results'].values"
      ],
      "execution_count": 460,
      "outputs": []
    },
    {
      "cell_type": "code",
      "metadata": {
        "id": "CEF8JkDJkSaO"
      },
      "source": [
        "# Splitting our data into train and test sets\n",
        "#\n",
        "X_train, X_test, y_train, y_test = train_test_split(X, y, test_size=0.3,random_state=25)"
      ],
      "execution_count": 461,
      "outputs": []
    },
    {
      "cell_type": "code",
      "metadata": {
        "colab": {
          "base_uri": "https://localhost:8080/"
        },
        "id": "1zVs8TFhkm9w",
        "outputId": "41438f0d-132d-4260-fed8-11ab33cbf1ba"
      },
      "source": [
        "# Fit our dataset to logistic regression\n",
        "#\n",
        "LogReg = LogisticRegression()\n",
        "LogReg.fit(X_train, y_train)\n",
        "\n",
        "# Predicting\n",
        "#\n",
        "y_predict = LogReg.predict(X_test)\n",
        "y_predict"
      ],
      "execution_count": 462,
      "outputs": [
        {
          "output_type": "stream",
          "name": "stderr",
          "text": [
            "/usr/local/lib/python3.7/dist-packages/sklearn/linear_model/_logistic.py:940: ConvergenceWarning: lbfgs failed to converge (status=1):\n",
            "STOP: TOTAL NO. of ITERATIONS REACHED LIMIT.\n",
            "\n",
            "Increase the number of iterations (max_iter) or scale the data as shown in:\n",
            "    https://scikit-learn.org/stable/modules/preprocessing.html\n",
            "Please also refer to the documentation for alternative solver options:\n",
            "    https://scikit-learn.org/stable/modules/linear_model.html#logistic-regression\n",
            "  extra_warning_msg=_LOGISTIC_SOLVER_CONVERGENCE_MSG)\n"
          ]
        },
        {
          "output_type": "execute_result",
          "data": {
            "text/plain": [
              "array([0, 1, 1, 2, 2, 1, 0, 0, 2, 0, 2, 2, 0, 0, 2, 1, 1, 1, 1, 2, 2, 1,\n",
              "       0, 1, 0, 2, 2, 2, 2, 1, 2, 2, 2, 2, 1, 0, 2, 2, 2, 2, 2, 0, 0, 2,\n",
              "       1, 2, 1, 1, 2, 2, 2, 1, 0, 1, 2, 0, 2, 2, 2, 2, 2, 2, 1, 2, 2, 2,\n",
              "       2, 0, 1, 2, 1, 0, 2, 2, 2, 2, 1, 0, 2, 2, 2, 2, 2, 1, 1, 0, 2, 0,\n",
              "       2, 0, 2, 2, 2, 2, 0, 0, 0, 1, 2, 0, 1, 2, 2, 2, 2, 2, 0, 2, 2, 2,\n",
              "       1, 2, 2, 0, 2, 2, 2, 1, 2, 1, 2, 2, 1, 0, 0, 0, 0, 1, 0, 2, 1, 2,\n",
              "       1, 0, 2, 0, 0, 0, 0, 0, 1, 1, 2, 1, 1, 2, 1, 1, 2, 2, 2, 0, 0, 2,\n",
              "       2, 2, 1, 2, 1, 2, 2, 1, 2, 2, 2, 1, 0, 2, 2, 0, 2, 2, 2, 1, 0, 1,\n",
              "       2, 2, 2, 1, 0, 1, 1, 1, 0, 2, 1, 2, 2, 2, 1, 2, 2, 2, 0, 2, 0, 1,\n",
              "       2, 1, 2, 2, 0, 0, 2, 2, 2, 0, 1, 1, 0, 2, 0, 1, 1, 0, 2, 1, 2, 1,\n",
              "       0, 1, 1, 2, 0, 1, 2, 0, 1, 0, 2, 0, 2, 2, 1, 1, 2, 2, 0, 1, 1, 2,\n",
              "       0, 2, 1, 0, 0, 1, 2, 1, 2, 0, 2, 2, 2, 2, 2, 2, 1, 0, 0, 1])"
            ]
          },
          "metadata": {},
          "execution_count": 462
        }
      ]
    },
    {
      "cell_type": "code",
      "metadata": {
        "colab": {
          "base_uri": "https://localhost:8080/"
        },
        "id": "s-3Tlqlhk5i1",
        "outputId": "ca344c81-cb59-461e-a002-1c9ad45cc211"
      },
      "source": [
        "#Creating a confusion matrix to get the accuracy of our model.\n",
        "#\n",
        "from sklearn.metrics import confusion_matrix\n",
        "\n",
        "confusion_matrix = confusion_matrix(y_test,y_predict)\n",
        "confusion_matrix"
      ],
      "execution_count": 463,
      "outputs": [
        {
          "output_type": "execute_result",
          "data": {
            "text/plain": [
              "array([[ 59,  11,   0],\n",
              "       [  4,  59,   0],\n",
              "       [  0,   0, 129]])"
            ]
          },
          "metadata": {},
          "execution_count": 463
        }
      ]
    },
    {
      "cell_type": "code",
      "metadata": {
        "colab": {
          "base_uri": "https://localhost:8080/"
        },
        "id": "ZMQe2Kk3lBC8",
        "outputId": "2692813d-8ae1-4178-91f4-d37688e2ea3a"
      },
      "source": [
        "LogReg.score(X_test, y_test)"
      ],
      "execution_count": 464,
      "outputs": [
        {
          "output_type": "execute_result",
          "data": {
            "text/plain": [
              "0.9427480916030534"
            ]
          },
          "metadata": {},
          "execution_count": 464
        }
      ]
    },
    {
      "cell_type": "markdown",
      "metadata": {
        "id": "0k7u76ZslKe2"
      },
      "source": [
        "The logistic regression has an accuracy of 94%."
      ]
    },
    {
      "cell_type": "markdown",
      "metadata": {
        "id": "RZHQN3EKlQbI"
      },
      "source": [
        "Cross Validation"
      ]
    },
    {
      "cell_type": "code",
      "metadata": {
        "colab": {
          "base_uri": "https://localhost:8080/"
        },
        "id": "mNI4jbXhlOCX",
        "outputId": "351d9c7a-13bd-4e52-9cc3-4138d5e0bf97"
      },
      "source": [
        "#Cross Validating our data\n",
        "#\n",
        "from sklearn.ensemble import RandomForestClassifier\n",
        "classifier = RandomForestClassifier(n_estimators = 300, random_state=0)\n",
        "from sklearn.model_selection import cross_val_score\n",
        "\n",
        "all_accuracies = cross_val_score(estimator = classifier, X = X_train, y=y_train,cv=5)\n",
        "print(all_accuracies.mean())"
      ],
      "execution_count": 465,
      "outputs": [
        {
          "output_type": "stream",
          "name": "stdout",
          "text": [
            "0.991749085489771\n"
          ]
        }
      ]
    },
    {
      "cell_type": "markdown",
      "metadata": {
        "id": "YftJv0UTlasm"
      },
      "source": [
        "After Evaluation the model is found to have an accuracy of 99%"
      ]
    }
  ]
}